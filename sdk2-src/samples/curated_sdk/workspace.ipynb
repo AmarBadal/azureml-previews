{
 "cells": [
  {
   "cell_type": "code",
   "execution_count": 17,
   "metadata": {},
   "outputs": [],
   "source": [
    "subscription_id = '5f08d643-1910-4a38-a7c7-84a39d4f42e0'\n",
    "resource_group = 'sdk_vnext_cli'\n",
    "workspace = 'sdk_vnext_cli'"
   ]
  },
  {
   "cell_type": "code",
   "execution_count": 18,
   "metadata": {},
   "outputs": [],
   "source": [
    "from azure.machinelearning import MachineLearningClient\n",
    "\n",
    "ml_client = MachineLearningClient(subscription_id, resource_group)"
   ]
  },
  {
   "cell_type": "code",
   "execution_count": 14,
   "metadata": {},
   "outputs": [
    {
     "name": "stdout",
     "output_type": "stream",
     "text": [
      "{'additional_properties': {'etag': None}, 'id': '/subscriptions/5f08d643-1910-4a38-a7c7-84a39d4f42e0/resourceGroups/sdk_vnext_cli/providers/Microsoft.MachineLearningServices/workspaces/synapseamlint', 'name': 'synapseamlint', 'identity': <azure.machinelearning._restclient.machinelearningservices.models._models_py3.Identity object at 0x113848fd0>, 'location': 'westus2', 'type': 'Microsoft.MachineLearningServices/workspaces', 'tags': {}, 'sku': <azure.machinelearning._restclient.machinelearningservices.models._models_py3.Sku object at 0x11385d070>, 'workspace_id': 'e1fd5012-1b19-4427-a67b-bcc1d668bd23', 'description': '', 'friendly_name': 'synapseamlint', 'creation_time': datetime.datetime(2020, 9, 23, 6, 33, 8, 132661, tzinfo=<FixedOffset '+00:00'>), 'key_vault': '/subscriptions/5f08d643-1910-4a38-a7c7-84a39d4f42e0/resourcegroups/sdk_vnext_cli/providers/microsoft.keyvault/vaults/synapseamlint3865965521', 'application_insights': '/subscriptions/5f08d643-1910-4a38-a7c7-84a39d4f42e0/resourcegroups/sdk_vnext_cli/providers/microsoft.insights/components/synapseamlint0604150403', 'container_registry': '/subscriptions/5f08d643-1910-4a38-a7c7-84a39d4f42e0/resourceGroups/sdk_vnext_cli/providers/Microsoft.ContainerRegistry/registries/e1fd50121b194427a67bbcc1d668bd23', 'storage_account': '/subscriptions/5f08d643-1910-4a38-a7c7-84a39d4f42e0/resourcegroups/sdk_vnext_cli/providers/microsoft.storage/storageaccounts/synapseamlint0247007821', 'discovery_url': 'https://westus2.experiments.azureml.net/discovery', 'provisioning_state': None, 'encryption': None, 'hbi_workspace': False, 'service_provisioned_resource_group': None, 'private_link_count': 0, 'image_build_compute': None, 'allow_public_access_when_behind_vnet': False, 'private_endpoint_connections': None, 'shared_private_link_resources': None}\n",
      "{'additional_properties': {'etag': None}, 'id': '/subscriptions/5f08d643-1910-4a38-a7c7-84a39d4f42e0/resourceGroups/sdk_vnext_cli/providers/Microsoft.MachineLearningServices/workspaces/auth-test', 'name': 'auth-test', 'identity': <azure.machinelearning._restclient.machinelearningservices.models._models_py3.Identity object at 0x11385d1c0>, 'location': 'westcentralus', 'type': 'Microsoft.MachineLearningServices/workspaces', 'tags': {}, 'sku': <azure.machinelearning._restclient.machinelearningservices.models._models_py3.Sku object at 0x11385d220>, 'workspace_id': 'f760a536-abdb-4429-8198-2548df0794f5', 'description': '', 'friendly_name': 'auth-test', 'creation_time': datetime.datetime(2020, 9, 20, 1, 57, 44, 637083, tzinfo=<FixedOffset '+00:00'>), 'key_vault': '/subscriptions/5f08d643-1910-4a38-a7c7-84a39d4f42e0/resourcegroups/sdk_vnext_cli/providers/microsoft.keyvault/vaults/authtest0220858216', 'application_insights': '/subscriptions/5f08d643-1910-4a38-a7c7-84a39d4f42e0/resourcegroups/sdk_vnext_cli/providers/microsoft.insights/components/authtest2497693117', 'container_registry': '/subscriptions/5f08d643-1910-4a38-a7c7-84a39d4f42e0/resourceGroups/sdk_vnext_cli/providers/Microsoft.ContainerRegistry/registries/f760a536abdb442981982548df0794f5', 'storage_account': '/subscriptions/5f08d643-1910-4a38-a7c7-84a39d4f42e0/resourcegroups/sdk_vnext_cli/providers/microsoft.storage/storageaccounts/authtest4800544775', 'discovery_url': 'https://westcentralus.experiments.azureml.net/discovery', 'provisioning_state': None, 'encryption': None, 'hbi_workspace': False, 'service_provisioned_resource_group': None, 'private_link_count': 0, 'image_build_compute': None, 'allow_public_access_when_behind_vnet': False, 'private_endpoint_connections': None, 'shared_private_link_resources': None}\n",
      "{'additional_properties': {'etag': None}, 'id': '/subscriptions/5f08d643-1910-4a38-a7c7-84a39d4f42e0/resourceGroups/sdk_vnext_cli/providers/Microsoft.MachineLearningServices/workspaces/sdk_vnext_cli', 'name': 'sdk_vnext_cli', 'identity': <azure.machinelearning._restclient.machinelearningservices.models._models_py3.Identity object at 0x11385d370>, 'location': 'centraluseuap', 'type': 'Microsoft.MachineLearningServices/workspaces', 'tags': {}, 'sku': <azure.machinelearning._restclient.machinelearningservices.models._models_py3.Sku object at 0x11385d3d0>, 'workspace_id': 'bb863c35-46ae-4e99-8852-64ec4d2b2134', 'description': '', 'friendly_name': 'sdk_vnext_cli', 'creation_time': datetime.datetime(2020, 9, 4, 0, 45, 35, 501629, tzinfo=<FixedOffset '+00:00'>), 'key_vault': '/subscriptions/5f08d643-1910-4a38-a7c7-84a39d4f42e0/resourcegroups/sdk_vnext_cli/providers/microsoft.keyvault/vaults/sdkvnextcli8828293503', 'application_insights': '/subscriptions/5f08d643-1910-4a38-a7c7-84a39d4f42e0/resourcegroups/sdk_vnext_cli/providers/microsoft.insights/components/sdkvnextcli4013859452', 'container_registry': '/subscriptions/5f08d643-1910-4a38-a7c7-84a39d4f42e0/resourceGroups/sdk_vnext_cli/providers/Microsoft.ContainerRegistry/registries/bb863c3546ae4e99885264ec4d2b2134', 'storage_account': '/subscriptions/5f08d643-1910-4a38-a7c7-84a39d4f42e0/resourcegroups/sdk_vnext_cli/providers/microsoft.storage/storageaccounts/sdkvnextcli4340461502', 'discovery_url': 'https://master.experiments.azureml-test.net/discovery', 'provisioning_state': None, 'encryption': None, 'hbi_workspace': False, 'service_provisioned_resource_group': None, 'private_link_count': 0, 'image_build_compute': None, 'allow_public_access_when_behind_vnet': False, 'private_endpoint_connections': None, 'shared_private_link_resources': None}\n"
     ]
    }
   ],
   "source": [
    "for ws in ml_client.workspaces.list():\n",
    "    print(ws)"
   ]
  },
  {
   "cell_type": "code",
   "execution_count": 15,
   "metadata": {},
   "outputs": [
    {
     "data": {
      "text/plain": [
       "{'additional_properties': {'etag': None},\n",
       " 'id': '/subscriptions/5f08d643-1910-4a38-a7c7-84a39d4f42e0/resourceGroups/sdk_vnext_cli/providers/Microsoft.MachineLearningServices/workspaces/sdk_vnext_cli',\n",
       " 'name': 'sdk_vnext_cli',\n",
       " 'identity': <azure.machinelearning._restclient.machinelearningservices.models._models_py3.Identity at 0x113f90af0>,\n",
       " 'location': 'centraluseuap',\n",
       " 'type': 'Microsoft.MachineLearningServices/workspaces',\n",
       " 'tags': {},\n",
       " 'sku': <azure.machinelearning._restclient.machinelearningservices.models._models_py3.Sku at 0x11385d5b0>,\n",
       " 'workspace_id': 'bb863c35-46ae-4e99-8852-64ec4d2b2134',\n",
       " 'description': '',\n",
       " 'friendly_name': 'sdk_vnext_cli',\n",
       " 'creation_time': datetime.datetime(2020, 9, 4, 0, 45, 35, 501629, tzinfo=<FixedOffset '+00:00'>),\n",
       " 'key_vault': '/subscriptions/5f08d643-1910-4a38-a7c7-84a39d4f42e0/resourcegroups/sdk_vnext_cli/providers/microsoft.keyvault/vaults/sdkvnextcli8828293503',\n",
       " 'application_insights': '/subscriptions/5f08d643-1910-4a38-a7c7-84a39d4f42e0/resourcegroups/sdk_vnext_cli/providers/microsoft.insights/components/sdkvnextcli4013859452',\n",
       " 'container_registry': '/subscriptions/5f08d643-1910-4a38-a7c7-84a39d4f42e0/resourceGroups/sdk_vnext_cli/providers/Microsoft.ContainerRegistry/registries/bb863c3546ae4e99885264ec4d2b2134',\n",
       " 'storage_account': '/subscriptions/5f08d643-1910-4a38-a7c7-84a39d4f42e0/resourcegroups/sdk_vnext_cli/providers/microsoft.storage/storageaccounts/sdkvnextcli4340461502',\n",
       " 'discovery_url': 'https://master.experiments.azureml-test.net/discovery',\n",
       " 'provisioning_state': None,\n",
       " 'encryption': None,\n",
       " 'hbi_workspace': False,\n",
       " 'service_provisioned_resource_group': None,\n",
       " 'private_link_count': 0,\n",
       " 'image_build_compute': None,\n",
       " 'allow_public_access_when_behind_vnet': False,\n",
       " 'private_endpoint_connections': None,\n",
       " 'shared_private_link_resources': None}"
      ]
     },
     "execution_count": 15,
     "metadata": {},
     "output_type": "execute_result"
    }
   ],
   "source": [
    "ml_client.workspaces.get(workspace).__dict__"
   ]
  },
  {
   "cell_type": "code",
   "execution_count": 5,
   "metadata": {},
   "outputs": [
    {
     "name": "stderr",
     "output_type": "stream",
     "text": [
      "Readonly attribute name will be ignored in class <class 'azure.machinelearning._restclient.machinelearningservices.models._models_py3.Workspace'>\n"
     ]
    },
    {
     "ename": "HttpResponseError",
     "evalue": "(ValidationError) Missing dependent resources in workspace json",
     "output_type": "error",
     "traceback": [
      "\u001b[0;31m---------------------------------------------------------------------------\u001b[0m",
      "\u001b[0;31mHttpResponseError\u001b[0m                         Traceback (most recent call last)",
      "\u001b[0;32m<ipython-input-5-71c31aea7035>\u001b[0m in \u001b[0;36m<module>\u001b[0;34m\u001b[0m\n\u001b[1;32m      4\u001b[0m }\n\u001b[1;32m      5\u001b[0m \u001b[0;34m\u001b[0m\u001b[0m\n\u001b[0;32m----> 6\u001b[0;31m \u001b[0mml_client\u001b[0m\u001b[0;34m.\u001b[0m\u001b[0mworkspaces\u001b[0m\u001b[0;34m.\u001b[0m\u001b[0mcreate_or_update\u001b[0m\u001b[0;34m(\u001b[0m\u001b[0;34m\"my-new-workspace\"\u001b[0m\u001b[0;34m,\u001b[0m \u001b[0;34m**\u001b[0m\u001b[0mdict\u001b[0m\u001b[0;34m)\u001b[0m\u001b[0;34m\u001b[0m\u001b[0;34m\u001b[0m\u001b[0m\n\u001b[0m",
      "\u001b[0;32m~/Code/sdk-cli-v2/src/azure-machinelearning/azure/machinelearning/machinelearning_client.py\u001b[0m in \u001b[0;36mcreate_or_update\u001b[0;34m(self, name, **kwargs)\u001b[0m\n\u001b[1;32m    163\u001b[0m             \u001b[0mkwargs\u001b[0m\u001b[0;34m[\u001b[0m\u001b[0;34m\"name\"\u001b[0m\u001b[0;34m]\u001b[0m \u001b[0;34m=\u001b[0m \u001b[0mname\u001b[0m\u001b[0;34m\u001b[0m\u001b[0;34m\u001b[0m\u001b[0m\n\u001b[1;32m    164\u001b[0m         \u001b[0mworkspace\u001b[0m \u001b[0;34m=\u001b[0m \u001b[0mWorkspace\u001b[0m\u001b[0;34m(\u001b[0m\u001b[0;34m**\u001b[0m\u001b[0mkwargs\u001b[0m\u001b[0;34m)\u001b[0m\u001b[0;34m\u001b[0m\u001b[0;34m\u001b[0m\u001b[0m\n\u001b[0;32m--> 165\u001b[0;31m         \u001b[0;32mreturn\u001b[0m \u001b[0mself\u001b[0m\u001b[0;34m.\u001b[0m\u001b[0m_operation\u001b[0m\u001b[0;34m.\u001b[0m\u001b[0mbegin_create_or_update\u001b[0m\u001b[0;34m(\u001b[0m\u001b[0mself\u001b[0m\u001b[0;34m.\u001b[0m\u001b[0m_workspace_scope\u001b[0m\u001b[0;34m.\u001b[0m\u001b[0mresource_group_name\u001b[0m\u001b[0;34m,\u001b[0m \u001b[0mname\u001b[0m\u001b[0;34m,\u001b[0m \u001b[0mworkspace\u001b[0m\u001b[0;34m)\u001b[0m\u001b[0;34m\u001b[0m\u001b[0;34m\u001b[0m\u001b[0m\n\u001b[0m\u001b[1;32m    166\u001b[0m \u001b[0;34m\u001b[0m\u001b[0m\n\u001b[1;32m    167\u001b[0m     \u001b[0;32mdef\u001b[0m \u001b[0mdelete\u001b[0m\u001b[0;34m(\u001b[0m\u001b[0mself\u001b[0m\u001b[0;34m,\u001b[0m \u001b[0mname\u001b[0m\u001b[0;34m:\u001b[0m \u001b[0mstr\u001b[0m\u001b[0;34m)\u001b[0m \u001b[0;34m->\u001b[0m \u001b[0mLROPoller\u001b[0m\u001b[0;34m[\u001b[0m\u001b[0;32mNone\u001b[0m\u001b[0;34m]\u001b[0m\u001b[0;34m:\u001b[0m\u001b[0;34m\u001b[0m\u001b[0;34m\u001b[0m\u001b[0m\n",
      "\u001b[0;32m~/Code/sdk-cli-v2/src/azure-machinelearning/azure/machinelearning/_restclient/machinelearningservices/operations/_workspaces_operations.py\u001b[0m in \u001b[0;36mbegin_create_or_update\u001b[0;34m(self, resource_group_name, workspace_name, parameters, **kwargs)\u001b[0m\n\u001b[1;32m    202\u001b[0m         \u001b[0mcont_token\u001b[0m \u001b[0;34m=\u001b[0m \u001b[0mkwargs\u001b[0m\u001b[0;34m.\u001b[0m\u001b[0mpop\u001b[0m\u001b[0;34m(\u001b[0m\u001b[0;34m'continuation_token'\u001b[0m\u001b[0;34m,\u001b[0m \u001b[0;32mNone\u001b[0m\u001b[0;34m)\u001b[0m  \u001b[0;31m# type: Optional[str]\u001b[0m\u001b[0;34m\u001b[0m\u001b[0;34m\u001b[0m\u001b[0m\n\u001b[1;32m    203\u001b[0m         \u001b[0;32mif\u001b[0m \u001b[0mcont_token\u001b[0m \u001b[0;32mis\u001b[0m \u001b[0;32mNone\u001b[0m\u001b[0;34m:\u001b[0m\u001b[0;34m\u001b[0m\u001b[0;34m\u001b[0m\u001b[0m\n\u001b[0;32m--> 204\u001b[0;31m             raw_result = self._create_or_update_initial(\n\u001b[0m\u001b[1;32m    205\u001b[0m                 \u001b[0mresource_group_name\u001b[0m\u001b[0;34m=\u001b[0m\u001b[0mresource_group_name\u001b[0m\u001b[0;34m,\u001b[0m\u001b[0;34m\u001b[0m\u001b[0;34m\u001b[0m\u001b[0m\n\u001b[1;32m    206\u001b[0m                 \u001b[0mworkspace_name\u001b[0m\u001b[0;34m=\u001b[0m\u001b[0mworkspace_name\u001b[0m\u001b[0;34m,\u001b[0m\u001b[0;34m\u001b[0m\u001b[0;34m\u001b[0m\u001b[0m\n",
      "\u001b[0;32m~/Code/sdk-cli-v2/src/azure-machinelearning/azure/machinelearning/_restclient/machinelearningservices/operations/_workspaces_operations.py\u001b[0m in \u001b[0;36m_create_or_update_initial\u001b[0;34m(self, resource_group_name, workspace_name, parameters, **kwargs)\u001b[0m\n\u001b[1;32m    153\u001b[0m             \u001b[0mmap_error\u001b[0m\u001b[0;34m(\u001b[0m\u001b[0mstatus_code\u001b[0m\u001b[0;34m=\u001b[0m\u001b[0mresponse\u001b[0m\u001b[0;34m.\u001b[0m\u001b[0mstatus_code\u001b[0m\u001b[0;34m,\u001b[0m \u001b[0mresponse\u001b[0m\u001b[0;34m=\u001b[0m\u001b[0mresponse\u001b[0m\u001b[0;34m,\u001b[0m \u001b[0merror_map\u001b[0m\u001b[0;34m=\u001b[0m\u001b[0merror_map\u001b[0m\u001b[0;34m)\u001b[0m\u001b[0;34m\u001b[0m\u001b[0;34m\u001b[0m\u001b[0m\n\u001b[1;32m    154\u001b[0m             \u001b[0merror\u001b[0m \u001b[0;34m=\u001b[0m \u001b[0mself\u001b[0m\u001b[0;34m.\u001b[0m\u001b[0m_deserialize\u001b[0m\u001b[0;34m(\u001b[0m\u001b[0mmodels\u001b[0m\u001b[0;34m.\u001b[0m\u001b[0mMachineLearningServiceError\u001b[0m\u001b[0;34m,\u001b[0m \u001b[0mresponse\u001b[0m\u001b[0;34m)\u001b[0m\u001b[0;34m\u001b[0m\u001b[0;34m\u001b[0m\u001b[0m\n\u001b[0;32m--> 155\u001b[0;31m             \u001b[0;32mraise\u001b[0m \u001b[0mHttpResponseError\u001b[0m\u001b[0;34m(\u001b[0m\u001b[0mresponse\u001b[0m\u001b[0;34m=\u001b[0m\u001b[0mresponse\u001b[0m\u001b[0;34m,\u001b[0m \u001b[0mmodel\u001b[0m\u001b[0;34m=\u001b[0m\u001b[0merror\u001b[0m\u001b[0;34m,\u001b[0m \u001b[0merror_format\u001b[0m\u001b[0;34m=\u001b[0m\u001b[0mARMErrorFormat\u001b[0m\u001b[0;34m)\u001b[0m\u001b[0;34m\u001b[0m\u001b[0;34m\u001b[0m\u001b[0m\n\u001b[0m\u001b[1;32m    156\u001b[0m \u001b[0;34m\u001b[0m\u001b[0m\n\u001b[1;32m    157\u001b[0m         \u001b[0mdeserialized\u001b[0m \u001b[0;34m=\u001b[0m \u001b[0;32mNone\u001b[0m\u001b[0;34m\u001b[0m\u001b[0;34m\u001b[0m\u001b[0m\n",
      "\u001b[0;31mHttpResponseError\u001b[0m: (ValidationError) Missing dependent resources in workspace json"
     ]
    }
   ],
   "source": [
    "dict = {\n",
    "    \"location\": \"westus2\",\n",
    "    \"description\": \"This is a cool ws\"\n",
    "}\n",
    "\n",
    "ml_client.workspaces.create_or_update(\"my-new-workspace\", **dict)"
   ]
  },
  {
   "cell_type": "code",
   "execution_count": 7,
   "metadata": {},
   "outputs": [
    {
     "ename": "Exception",
     "evalue": "Please set the default workspace with MachineLearningClient.",
     "output_type": "error",
     "traceback": [
      "\u001b[0;31m---------------------------------------------------------------------------\u001b[0m",
      "\u001b[0;31mException\u001b[0m                                 Traceback (most recent call last)",
      "\u001b[0;32m<ipython-input-7-18fbf13dca69>\u001b[0m in \u001b[0;36m<module>\u001b[0;34m\u001b[0m\n\u001b[1;32m      1\u001b[0m \u001b[0;31m# fails because no default ws set and no explicit ws passed in\u001b[0m\u001b[0;34m\u001b[0m\u001b[0;34m\u001b[0m\u001b[0;34m\u001b[0m\u001b[0m\n\u001b[0;32m----> 2\u001b[0;31m ml_client.jobs.submit(job_id=\"test444\", \n\u001b[0m\u001b[1;32m      3\u001b[0m                       \u001b[0mcompute_id\u001b[0m\u001b[0;34m=\u001b[0m\u001b[0;34m\"testCompute\"\u001b[0m\u001b[0;34m,\u001b[0m\u001b[0;34m\u001b[0m\u001b[0;34m\u001b[0m\u001b[0m\n\u001b[1;32m      4\u001b[0m                       \u001b[0mexperiment_name\u001b[0m\u001b[0;34m=\u001b[0m\u001b[0;34m\"mfe-test-hw\"\u001b[0m\u001b[0;34m,\u001b[0m\u001b[0;34m\u001b[0m\u001b[0;34m\u001b[0m\u001b[0m\n\u001b[1;32m      5\u001b[0m                       environment_id=\"/subscriptions/5f08d643-1910-4a38-a7c7-84a39d4f42e0/resourceGroups/sdk_vnext_cli/providers/Microsoft.MachineLearningServices/workspaces/sdk_vnext_cli/environments/AzureML Default\")\n",
      "\u001b[0;32m~/Code/sdk-cli-v2/src/azure-machinelearning/azure/machinelearning/machinelearning_client.py\u001b[0m in \u001b[0;36msubmit\u001b[0;34m(self, job_id, compute_id, experiment_name, environment_id, file)\u001b[0m\n\u001b[1;32m     93\u001b[0m             \u001b[0msubscription_id\u001b[0m\u001b[0;34m=\u001b[0m\u001b[0mself\u001b[0m\u001b[0;34m.\u001b[0m\u001b[0m_workspace_scope\u001b[0m\u001b[0;34m.\u001b[0m\u001b[0msubscription_id\u001b[0m\u001b[0;34m,\u001b[0m\u001b[0;34m\u001b[0m\u001b[0;34m\u001b[0m\u001b[0m\n\u001b[1;32m     94\u001b[0m             \u001b[0mresource_group_name\u001b[0m\u001b[0;34m=\u001b[0m\u001b[0mself\u001b[0m\u001b[0;34m.\u001b[0m\u001b[0m_workspace_scope\u001b[0m\u001b[0;34m.\u001b[0m\u001b[0mresource_group_name\u001b[0m\u001b[0;34m,\u001b[0m\u001b[0;34m\u001b[0m\u001b[0;34m\u001b[0m\u001b[0m\n\u001b[0;32m---> 95\u001b[0;31m             \u001b[0mworkspace_name\u001b[0m\u001b[0;34m=\u001b[0m\u001b[0mself\u001b[0m\u001b[0;34m.\u001b[0m\u001b[0m_workspace_name\u001b[0m\u001b[0;34m,\u001b[0m\u001b[0;34m\u001b[0m\u001b[0;34m\u001b[0m\u001b[0m\n\u001b[0m\u001b[1;32m     96\u001b[0m             \u001b[0mbody\u001b[0m\u001b[0;34m=\u001b[0m\u001b[0mcommand_job_resource\u001b[0m\u001b[0;34m,\u001b[0m\u001b[0;34m\u001b[0m\u001b[0;34m\u001b[0m\u001b[0m\n\u001b[1;32m     97\u001b[0m             api_version=\"2020-09-01-preview\")  # TODO: set default api_version to this\n",
      "\u001b[0;32m~/Code/sdk-cli-v2/src/azure-machinelearning/azure/machinelearning/machinelearning_client.py\u001b[0m in \u001b[0;36mnew_function\u001b[0;34m(self, *args, **kwargs)\u001b[0m\n\u001b[1;32m     47\u001b[0m     \u001b[0;32mdef\u001b[0m \u001b[0mnew_function\u001b[0m\u001b[0;34m(\u001b[0m\u001b[0mself\u001b[0m\u001b[0;34m:\u001b[0m \u001b[0mAny\u001b[0m\u001b[0;34m,\u001b[0m \u001b[0;34m*\u001b[0m\u001b[0margs\u001b[0m\u001b[0;34m:\u001b[0m \u001b[0mAny\u001b[0m\u001b[0;34m,\u001b[0m \u001b[0;34m**\u001b[0m\u001b[0mkwargs\u001b[0m\u001b[0;34m:\u001b[0m \u001b[0mAny\u001b[0m\u001b[0;34m)\u001b[0m \u001b[0;34m->\u001b[0m \u001b[0mAny\u001b[0m\u001b[0;34m:\u001b[0m\u001b[0;34m\u001b[0m\u001b[0;34m\u001b[0m\u001b[0m\n\u001b[1;32m     48\u001b[0m         \u001b[0;32mif\u001b[0m \u001b[0;32mnot\u001b[0m \u001b[0mself\u001b[0m\u001b[0;34m.\u001b[0m\u001b[0m_workspace_scope\u001b[0m\u001b[0;34m.\u001b[0m\u001b[0mworkspace_name\u001b[0m\u001b[0;34m:\u001b[0m\u001b[0;34m\u001b[0m\u001b[0;34m\u001b[0m\u001b[0m\n\u001b[0;32m---> 49\u001b[0;31m             \u001b[0;32mraise\u001b[0m \u001b[0mException\u001b[0m\u001b[0;34m(\u001b[0m\u001b[0;34m\"Please set the default workspace with MachineLearningClient.\"\u001b[0m\u001b[0;34m)\u001b[0m\u001b[0;34m\u001b[0m\u001b[0;34m\u001b[0m\u001b[0m\n\u001b[0m\u001b[1;32m     50\u001b[0m         \u001b[0;32mreturn\u001b[0m \u001b[0mfunc\u001b[0m\u001b[0;34m(\u001b[0m\u001b[0mself\u001b[0m\u001b[0;34m,\u001b[0m \u001b[0;34m*\u001b[0m\u001b[0margs\u001b[0m\u001b[0;34m,\u001b[0m \u001b[0;34m**\u001b[0m\u001b[0mkwargs\u001b[0m\u001b[0;34m)\u001b[0m\u001b[0;34m\u001b[0m\u001b[0;34m\u001b[0m\u001b[0m\n\u001b[1;32m     51\u001b[0m \u001b[0;34m\u001b[0m\u001b[0m\n",
      "\u001b[0;31mException\u001b[0m: Please set the default workspace with MachineLearningClient."
     ]
    }
   ],
   "source": [
    "# fails because no default ws set and no explicit ws passed in\n",
    "ml_client.jobs.submit(job_id=\"test444\", \n",
    "                      compute_id=\"testCompute\", \n",
    "                      experiment_name=\"mfe-test-hw\", \n",
    "                      environment_id=\"/subscriptions/5f08d643-1910-4a38-a7c7-84a39d4f42e0/resourceGroups/sdk_vnext_cli/providers/Microsoft.MachineLearningServices/workspaces/sdk_vnext_cli/environments/AzureML Default\")"
   ]
  },
  {
   "cell_type": "code",
   "execution_count": 19,
   "metadata": {},
   "outputs": [],
   "source": [
    "ml_client.default_workspace_name = workspace"
   ]
  },
  {
   "cell_type": "code",
   "execution_count": 10,
   "metadata": {},
   "outputs": [
    {
     "data": {
      "text/plain": [
       "<azure.machinelearning._restclient.machinelearningservices.models._models_py3.CommandJobResource at 0x1144a9130>"
      ]
     },
     "execution_count": 10,
     "metadata": {},
     "output_type": "execute_result"
    }
   ],
   "source": [
    "ml_client.jobs.submit(job_id=\"test666\", \n",
    "                      compute_id=\"testCompute\", \n",
    "                      experiment_name=\"mfe-test-hw\", \n",
    "                      environment_id=\"/subscriptions/5f08d643-1910-4a38-a7c7-84a39d4f42e0/resourceGroups/sdk_vnext_cli/providers/Microsoft.MachineLearningServices/workspaces/sdk_vnext_cli/environments/AzureML Default\")"
   ]
  },
  {
   "cell_type": "code",
   "execution_count": 21,
   "metadata": {},
   "outputs": [
    {
     "data": {
      "text/plain": [
       "{'additional_properties': {},\n",
       " 'id': '/subscriptions/5f08d643-1910-4a38-a7c7-84a39d4f42e0/resourceGroups/sdk_vnext_cli/providers/Microsoft.MachineLearningServices/workspaces/sdk_vnext_cli/codeJobs/test449',\n",
       " 'name': 'test449',\n",
       " 'type': 'Microsoft.MachineLearningServices/workspaces/codeJobs',\n",
       " 'properties': <azure.machinelearning._restclient.machinelearningservices.models._models_py3.CommandJob at 0x11386d520>,\n",
       " 'system_data': <azure.machinelearning._restclient.machinelearningservices.models._models_py3.SystemData at 0x11386d580>}"
      ]
     },
     "execution_count": 21,
     "metadata": {},
     "output_type": "execute_result"
    }
   ],
   "source": [
    "ml_client.jobs.get(\"test449\").__dict__"
   ]
  },
  {
   "cell_type": "code",
   "execution_count": null,
   "metadata": {},
   "outputs": [],
   "source": []
  }
 ],
 "metadata": {
  "kernelspec": {
   "display_name": "Python 3",
   "language": "python",
   "name": "python3"
  },
  "language_info": {
   "codemirror_mode": {
    "name": "ipython",
    "version": 3
   },
   "file_extension": ".py",
   "mimetype": "text/x-python",
   "name": "python",
   "nbconvert_exporter": "python",
   "pygments_lexer": "ipython3",
   "version": "3.8.3"
  }
 },
 "nbformat": 4,
 "nbformat_minor": 4
}
