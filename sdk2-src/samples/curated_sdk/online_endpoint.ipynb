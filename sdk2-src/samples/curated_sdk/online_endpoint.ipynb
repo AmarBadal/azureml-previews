{
 "cells": [
  {
   "cell_type": "code",
   "execution_count": null,
   "metadata": {},
   "outputs": [],
   "source": [
    "! pip install -e \"../../src/azure-ml\""
   ]
  },
  {
   "cell_type": "code",
   "execution_count": null,
   "metadata": {},
   "outputs": [],
   "source": [
    "subscription_id = '4faaaf21-663f-4391-96fd-47197c630979'\n",
    "resource_group = 'static_sdk_cli_v2_test_e2e'\n",
    "workspace = 'sdk_vnext_cli'"
   ]
  },
  {
   "cell_type": "code",
   "execution_count": null,
   "metadata": {},
   "outputs": [],
   "source": [
    "%env AZUREML_DEV_URL_MFE=http://localhost:65535/mferp/managementfrontend"
   ]
  },
  {
   "cell_type": "code",
   "execution_count": null,
   "metadata": {},
   "outputs": [],
   "source": [
    "from azure.ml import MLClient\n",
    "\n",
    "# ml_client = MLClient(subscription_id, resource_group)\n",
    "ml_client = MLClient(subscription_id, resource_group, default_workspace_name=workspace)"
   ]
  },
  {
   "cell_type": "code",
   "execution_count": null,
   "metadata": {},
   "outputs": [],
   "source": [
    "resource = ml_client.endpoints.create(file=\"../yaml/mir-OnlineEndpoint.yaml\", name=\"mironlineendpoint\")"
   ]
  },
  {
   "cell_type": "code",
   "execution_count": null,
   "metadata": {},
   "outputs": [],
   "source": [
    "resource = ml_client.endpoints.create(file=\"../yaml/aks-OnlineEndpoint.yaml\", name=\"aksonlineendpoint\")"
   ]
  },
  {
   "cell_type": "code",
   "execution_count": null,
   "metadata": {},
   "outputs": [],
   "source": [
    "ml_client.endpoints.get(name=\"mironlineendpoint\", type=\"online\")"
   ]
  }
 ],
 "metadata": {
  "kernelspec": {
   "display_name": "Python 3",
   "language": "python",
   "name": "python3"
  },
  "language_info": {
   "codemirror_mode": {
    "name": "ipython",
    "version": 3
   },
   "file_extension": ".py",
   "mimetype": "text/x-python",
   "name": "python",
   "nbconvert_exporter": "python",
   "pygments_lexer": "ipython3",
   "version": "3.8.3"
  }
 },
 "nbformat": 4,
 "nbformat_minor": 4
}
