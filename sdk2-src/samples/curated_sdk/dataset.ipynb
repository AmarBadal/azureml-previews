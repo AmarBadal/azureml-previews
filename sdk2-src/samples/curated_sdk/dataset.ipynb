{
 "cells": [
  {
   "cell_type": "code",
   "execution_count": null,
   "metadata": {},
   "outputs": [],
   "source": [
    "! pip install -e \"d:/code/sdk-cli-v2/src/azure-ml\""
   ]
  },
  {
   "cell_type": "code",
   "execution_count": 1,
   "metadata": {},
   "outputs": [],
   "source": [
    "subscription_id = '5f08d643-1910-4a38-a7c7-84a39d4f42e0'\n",
    "resource_group = 'sdk_vnext_cli'\n",
    "workspace = 'sdk_vnext_cli'"
   ]
  },
  {
   "cell_type": "code",
   "execution_count": 4,
   "metadata": {},
   "outputs": [
    {
     "name": "stdout",
     "output_type": "stream",
     "text": [
      "env: AZUREML_DEV_URL_MFE=http://localhost:65535/mferp/managementfrontend\n"
     ]
    }
   ],
   "source": [
    "%env AZUREML_DEV_URL_MFE=http://localhost:65535/mferp/managementfrontend"
   ]
  },
  {
   "cell_type": "code",
   "execution_count": 3,
   "metadata": {},
   "outputs": [
    {
     "name": "stderr",
     "output_type": "stream",
     "text": [
      "ManagedIdentityCredential.get_token failed: ManagedIdentityCredential authentication unavailable, no managed identity endpoint found.\n"
     ]
    }
   ],
   "source": [
    "from azure.ml import MLClient\n",
    "\n",
    "# ml_client = MLClient(subscription_id, resource_group)\n",
    "ml_client = MLClient(subscription_id, resource_group, default_workspace_name=workspace)"
   ]
  },
  {
   "cell_type": "code",
   "execution_count": 6,
   "metadata": {},
   "outputs": [],
   "source": [
    "ml_client.default_workspace_name = workspace"
   ]
  },
  {
   "cell_type": "code",
   "execution_count": 4,
   "metadata": {},
   "outputs": [
    {
     "name": "stdout",
     "output_type": "stream",
     "text": [
      "{'additional_properties': {}, 'id': '/subscriptions/5f08d643-1910-4a38-a7c7-84a39d4f42e0/resourceGroups/sdk_vnext_cli/providers/Microsoft.MachineLearningServices/workspaces/sdk_vnext_cli/data/vnext_test_data2/versions/1', 'name': 'vnext_test_data2', 'type': 'Microsoft.MachineLearningServices/workspaces/data', 'properties': <azure.ml._restclient.machinelearningservices.models._models_py3.DataVersion object at 0x0000022606D76460>, 'system_data': None}\n",
      "{'additional_properties': {}, 'id': '/subscriptions/5f08d643-1910-4a38-a7c7-84a39d4f42e0/resourceGroups/sdk_vnext_cli/providers/Microsoft.MachineLearningServices/workspaces/sdk_vnext_cli/data/vnext_test_data1/versions/1', 'name': 'vnext_test_data1', 'type': 'Microsoft.MachineLearningServices/workspaces/data', 'properties': <azure.ml._restclient.machinelearningservices.models._models_py3.DataVersion object at 0x0000022606D76550>, 'system_data': None}\n",
      "{'additional_properties': {}, 'id': '/subscriptions/5f08d643-1910-4a38-a7c7-84a39d4f42e0/resourceGroups/sdk_vnext_cli/providers/Microsoft.MachineLearningServices/workspaces/sdk_vnext_cli/data/vnext_test1.0/versions/1', 'name': 'vnext_test1.0', 'type': 'Microsoft.MachineLearningServices/workspaces/data', 'properties': <azure.ml._restclient.machinelearningservices.models._models_py3.DataVersion object at 0x0000022606D76580>, 'system_data': None}\n",
      "{'additional_properties': {}, 'id': '/subscriptions/5f08d643-1910-4a38-a7c7-84a39d4f42e0/resourceGroups/sdk_vnext_cli/providers/Microsoft.MachineLearningServices/workspaces/sdk_vnext_cli/data/vnext_test/versions/1', 'name': 'vnext_test', 'type': 'Microsoft.MachineLearningServices/workspaces/data', 'properties': <azure.ml._restclient.machinelearningservices.models._models_py3.DataVersion object at 0x0000022606D76850>, 'system_data': None}\n"
     ]
    }
   ],
   "source": [
    "for dataset in ml_client.data.list(\"vnext_test\"):\n",
    "    print(dataset)"
   ]
  },
  {
   "cell_type": "code",
   "execution_count": 5,
   "metadata": {},
   "outputs": [
    {
     "data": {
      "text/plain": [
       "{'additional_properties': {},\n",
       " 'id': '/subscriptions/5f08d643-1910-4a38-a7c7-84a39d4f42e0/resourceGroups/sdk_vnext_cli/providers/Microsoft.MachineLearningServices/workspaces/sdk_vnext_cli/data/v2_test/versions/1',\n",
       " 'name': 'v2_test',\n",
       " 'type': 'Microsoft.MachineLearningServices/workspaces/data',\n",
       " 'properties': <azure.ml._restclient.machinelearningservices.models._models_py3.DataVersion at 0x22606d431c0>,\n",
       " 'system_data': <azure.ml._restclient.machinelearningservices.models._models_py3.SystemData at 0x22606d43940>}"
      ]
     },
     "execution_count": 5,
     "metadata": {},
     "output_type": "execute_result"
    }
   ],
   "source": [
    "ml_client.data.get(\"v2_test:\").__dict__"
   ]
  },
  {
   "cell_type": "code",
   "execution_count": 8,
   "metadata": {},
   "outputs": [
    {
     "name": "stdout",
     "output_type": "stream",
     "text": [
      "{'name': None, 'version': None, 'description': None, 'linked_service_id': None, 'file': None, 'directory': None}\n"
     ]
    },
    {
     "data": {
      "text/plain": [
       "<azure.ml._restclient.machinelearningservices.models._models_py3.DataVersionResource at 0x1e2aa247cd0>"
      ]
     },
     "execution_count": 8,
     "metadata": {},
     "output_type": "execute_result"
    }
   ],
   "source": [
    "ml_client.data.create(name=\"v2_testt:2\", description=\"bla\",\n",
    "                          linked_service_id=\"/subscriptions/5f08d643-1910-4a38-a7c7-84a39d4f42e0/resourceGroups/sdk_vnext_cli/providers/Microsoft.MachineLearningServices/workspaces/sdk_vnext_cli/workspaceblobstore\",\n",
    "                         file_path=\"v2test/test.rtf\")"
   ]
  },
  {
   "cell_type": "code",
   "execution_count": 9,
   "metadata": {},
   "outputs": [
    {
     "name": "stdout",
     "output_type": "stream",
     "text": [
      "{'name': 'testDirectoryData', 'version': '1.0', 'description': 'this is a test dataset', 'linked_service_id': '/subscriptions/5f08d643-1910-4a38-a7c7-84a39d4f42e0/resourceGroups/sdk_vnext_cli/providers/Microsoft.MachineLearningServices/workspaces/sdk_vnext_cli/workspaceblobstore', 'file': None, 'directory': 'v2test'}\n"
     ]
    },
    {
     "data": {
      "text/plain": [
       "<azure.ml._restclient.machinelearningservices.models._models_py3.DataVersionResource at 0x1e2aa27c070>"
      ]
     },
     "execution_count": 9,
     "metadata": {},
     "output_type": "execute_result"
    }
   ],
   "source": [
    "ml_client.data.create(name=\"v2_testt:2\", yaml_path=\"d:/code/sdk-cli-v2/samples/yaml/data_directory.yaml\")"
   ]
  },
  {
   "cell_type": "code",
   "execution_count": null,
   "metadata": {},
   "outputs": [],
   "source": []
  }
 ],
 "metadata": {
  "kernelspec": {
   "display_name": "Python 3",
   "language": "python",
   "name": "python3"
  },
  "language_info": {
   "codemirror_mode": {
    "name": "ipython",
    "version": 3
   },
   "file_extension": ".py",
   "mimetype": "text/x-python",
   "name": "python",
   "nbconvert_exporter": "python",
   "pygments_lexer": "ipython3",
   "version": "3.8.5"
  }
 },
 "nbformat": 4,
 "nbformat_minor": 4
}
