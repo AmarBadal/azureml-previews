{
 "cells": [
  {
   "cell_type": "code",
   "execution_count": 5,
   "metadata": {},
   "outputs": [
    {
     "name": "stdout",
     "output_type": "stream",
     "text": [
      "Obtaining file:///D:/code/sdk-cli-v2/src/azure-ml\n",
      "Requirement already satisfied: pyyaml>=5.1.0 in c:\\users\\hancwang\\miniconda3\\envs\\v2-local\\lib\\site-packages (from azure-ml==0.0.1) (5.3.1)\n",
      "Requirement already satisfied: azure-identity in c:\\users\\hancwang\\miniconda3\\envs\\v2-local\\lib\\site-packages (from azure-ml==0.0.1) (1.4.1)\n",
      "Requirement already satisfied: msrest>=0.6.18 in c:\\users\\hancwang\\miniconda3\\envs\\v2-local\\lib\\site-packages (from azure-ml==0.0.1) (0.6.19)\n",
      "Requirement already satisfied: azure-core<2.0.0,>=1.8.0 in c:\\users\\hancwang\\miniconda3\\envs\\v2-local\\lib\\site-packages (from azure-ml==0.0.1) (1.8.2)\n",
      "Requirement already satisfied: azure-mgmt-core<2.0.0,>=1.2.0 in c:\\users\\hancwang\\miniconda3\\envs\\v2-local\\lib\\site-packages (from azure-ml==0.0.1) (1.2.0)\n",
      "Requirement already satisfied: marshmallow<4.0.0,>=3.5 in c:\\users\\hancwang\\miniconda3\\envs\\v2-local\\lib\\site-packages (from azure-ml==0.0.1) (3.8.0)\n",
      "Requirement already satisfied: tqdm in c:\\users\\hancwang\\miniconda3\\envs\\v2-local\\lib\\site-packages (from azure-ml==0.0.1) (4.51.0)\n",
      "Requirement already satisfied: azure-storage-blob<=12.5.0,>12.0.0b4 in c:\\users\\hancwang\\miniconda3\\envs\\v2-local\\lib\\site-packages (from azure-ml==0.0.1) (12.5.0)\n",
      "Requirement already satisfied: msal<2.0.0,>=1.3.0 in c:\\users\\hancwang\\miniconda3\\envs\\v2-local\\lib\\site-packages (from azure-identity->azure-ml==0.0.1) (1.6.0)\n",
      "Requirement already satisfied: msal-extensions~=0.2.2 in c:\\users\\hancwang\\miniconda3\\envs\\v2-local\\lib\\site-packages (from azure-identity->azure-ml==0.0.1) (0.2.2)\n",
      "Requirement already satisfied: cryptography>=2.1.4 in c:\\users\\hancwang\\miniconda3\\envs\\v2-local\\lib\\site-packages (from azure-identity->azure-ml==0.0.1) (2.9.2)\n",
      "Requirement already satisfied: six>=1.6 in c:\\users\\hancwang\\miniconda3\\envs\\v2-local\\lib\\site-packages (from azure-identity->azure-ml==0.0.1) (1.15.0)\n",
      "Requirement already satisfied: isodate>=0.6.0 in c:\\users\\hancwang\\miniconda3\\envs\\v2-local\\lib\\site-packages (from msrest>=0.6.18->azure-ml==0.0.1) (0.6.0)\n",
      "Requirement already satisfied: requests-oauthlib>=0.5.0 in c:\\users\\hancwang\\miniconda3\\envs\\v2-local\\lib\\site-packages (from msrest>=0.6.18->azure-ml==0.0.1) (1.3.0)\n",
      "Requirement already satisfied: requests~=2.16 in c:\\users\\hancwang\\miniconda3\\envs\\v2-local\\lib\\site-packages (from msrest>=0.6.18->azure-ml==0.0.1) (2.24.0)\n",
      "Requirement already satisfied: certifi>=2017.4.17 in c:\\users\\hancwang\\miniconda3\\envs\\v2-local\\lib\\site-packages (from msrest>=0.6.18->azure-ml==0.0.1) (2020.6.20)\n",
      "Requirement already satisfied: PyJWT[crypto]<2,>=1.0.0 in c:\\users\\hancwang\\miniconda3\\envs\\v2-local\\lib\\site-packages (from msal<2.0.0,>=1.3.0->azure-identity->azure-ml==0.0.1) (1.7.1)\n",
      "Requirement already satisfied: portalocker~=1.6; platform_system == \"Windows\" in c:\\users\\hancwang\\miniconda3\\envs\\v2-local\\lib\\site-packages (from msal-extensions~=0.2.2->azure-identity->azure-ml==0.0.1) (1.6.0)\n",
      "Requirement already satisfied: cffi!=1.11.3,>=1.8 in c:\\users\\hancwang\\miniconda3\\envs\\v2-local\\lib\\site-packages (from cryptography>=2.1.4->azure-identity->azure-ml==0.0.1) (1.14.3)\n",
      "Requirement already satisfied: oauthlib>=3.0.0 in c:\\users\\hancwang\\miniconda3\\envs\\v2-local\\lib\\site-packages (from requests-oauthlib>=0.5.0->msrest>=0.6.18->azure-ml==0.0.1) (3.1.0)\n",
      "Requirement already satisfied: urllib3!=1.25.0,!=1.25.1,<1.26,>=1.21.1 in c:\\users\\hancwang\\miniconda3\\envs\\v2-local\\lib\\site-packages (from requests~=2.16->msrest>=0.6.18->azure-ml==0.0.1) (1.25.11)\n",
      "Requirement already satisfied: idna<3,>=2.5 in c:\\users\\hancwang\\miniconda3\\envs\\v2-local\\lib\\site-packages (from requests~=2.16->msrest>=0.6.18->azure-ml==0.0.1) (2.10)\n",
      "Requirement already satisfied: chardet<4,>=3.0.2 in c:\\users\\hancwang\\miniconda3\\envs\\v2-local\\lib\\site-packages (from requests~=2.16->msrest>=0.6.18->azure-ml==0.0.1) (3.0.4)\n",
      "Requirement already satisfied: pywin32!=226; platform_system == \"Windows\" in c:\\users\\hancwang\\miniconda3\\envs\\v2-local\\lib\\site-packages (from portalocker~=1.6; platform_system == \"Windows\"->msal-extensions~=0.2.2->azure-identity->azure-ml==0.0.1) (227)\n",
      "Requirement already satisfied: pycparser in c:\\users\\hancwang\\miniconda3\\envs\\v2-local\\lib\\site-packages (from cffi!=1.11.3,>=1.8->cryptography>=2.1.4->azure-identity->azure-ml==0.0.1) (2.20)\n",
      "Installing collected packages: azure-ml\n",
      "  Attempting uninstall: azure-ml\n",
      "    Found existing installation: azure-ml 0.0.1\n",
      "    Uninstalling azure-ml-0.0.1:\n",
      "      Successfully uninstalled azure-ml-0.0.1\n",
      "  Running setup.py develop for azure-ml\n",
      "Successfully installed azure-ml\n"
     ]
    }
   ],
   "source": [
    "! pip install -e \"d:/code/sdk-cli-v2/src/azure-ml\""
   ]
  },
  {
   "cell_type": "code",
   "execution_count": 1,
   "metadata": {},
   "outputs": [],
   "source": [
    "subscription_id = '5f08d643-1910-4a38-a7c7-84a39d4f42e0'\n",
    "resource_group = 'sdk_vnext_cli'\n",
    "workspace = 'sdk_vnext_cli'"
   ]
  },
  {
   "cell_type": "code",
   "execution_count": 2,
   "metadata": {},
   "outputs": [
    {
     "name": "stdout",
     "output_type": "stream",
     "text": [
      "env: AZUREML_DEV_URL_MFE=http://localhost:65535/mferp/managementfrontend\n"
     ]
    }
   ],
   "source": [
    "%env AZUREML_DEV_URL_MFE=http://localhost:65535/mferp/managementfrontend"
   ]
  },
  {
   "cell_type": "code",
   "execution_count": 3,
   "metadata": {},
   "outputs": [
    {
     "name": "stderr",
     "output_type": "stream",
     "text": [
      "ManagedIdentityCredential.get_token failed: ManagedIdentityCredential authentication unavailable, no managed identity endpoint found.\n"
     ]
    }
   ],
   "source": [
    "from azure.ml import MLClient\n",
    "\n",
    "# ml_client = MLClient(subscription_id, resource_group)\n",
    "ml_client = MLClient(subscription_id, resource_group, default_workspace_name=workspace)"
   ]
  },
  {
   "cell_type": "code",
   "execution_count": 4,
   "metadata": {},
   "outputs": [
    {
     "name": "stderr",
     "output_type": "stream",
     "text": [
      "Uploading D:\\code\\sdk-cli-v2\\samples\\yaml\\endpoint to azureml/az-ml-artifacts/092aa0c5-74e1-44d4-b8c5-37a371ff7e43/endpoint:   0%|                                                            | 0/1 [00:00<?, ?it/s]Readonly attribute name will be ignored in class <class 'azure.ml._restclient.machinelearningservices.models._models_py3.CodeContainerResource'>\n"
     ]
    },
    {
     "data": {
      "text/plain": [
       "<azure.ml._restclient.machinelearningservices.models._models_py3.BatchEndpointTrackedResource at 0x176b1d69760>"
      ]
     },
     "execution_count": 4,
     "metadata": {},
     "output_type": "execute_result"
    }
   ],
   "source": [
    "ml_client.endpoints.create(file=\"d:/code/sdk-cli-v2/samples/yaml/batch_endpoint.yaml\")"
   ]
  },
  {
   "cell_type": "code",
   "execution_count": 5,
   "metadata": {},
   "outputs": [
    {
     "data": {
      "text/plain": [
       "{'additional_properties': {},\n",
       " 'description': 'my sample batch endpoint',\n",
       " 'properties': {},\n",
       " 'traffic_rules': {'blue': 100},\n",
       " 'compute_configuration': None,\n",
       " 'provisioning_state': 'Succeeded',\n",
       " 'endpoint': 'https://master.api.azureml-test.ms/pipelines/v1.0/subscriptions/5f08d643-1910-4a38-a7c7-84a39d4f42e0/resourceGroups/sdk_vnext_cli/providers/Microsoft.MachineLearningServices/workspaces/sdk_vnext_cli/PipelineRuns/PipelineEndpointSubmit/Id/551e4516-bfbc-4084-b2de-2b44c3347ddb',\n",
       " 'swagger_endpoint': None,\n",
       " 'auth_mode': 'AMLToken',\n",
       " 'keys': None}"
      ]
     },
     "execution_count": 5,
     "metadata": {},
     "output_type": "execute_result"
    }
   ],
   "source": [
    "ml_client.endpoints.get(name=\"myBatchEndpoint\", type=\"batch\").properties.__dict__"
   ]
  },
  {
   "cell_type": "code",
   "execution_count": null,
   "metadata": {},
   "outputs": [],
   "source": []
  }
 ],
 "metadata": {
  "kernelspec": {
   "display_name": "Python 3",
   "language": "python",
   "name": "python3"
  },
  "language_info": {
   "codemirror_mode": {
    "name": "ipython",
    "version": 3
   },
   "file_extension": ".py",
   "mimetype": "text/x-python",
   "name": "python",
   "nbconvert_exporter": "python",
   "pygments_lexer": "ipython3",
   "version": "3.8.5"
  }
 },
 "nbformat": 4,
 "nbformat_minor": 4
}
