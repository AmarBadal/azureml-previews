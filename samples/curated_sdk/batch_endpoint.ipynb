{
 "cells": [
  {
   "cell_type": "code",
   "execution_count": null,
   "metadata": {},
   "outputs": [],
   "source": [
    "! pip install -e \"d:/code/sdk-cli-v2/src/azure-ml\""
   ]
  },
  {
   "cell_type": "code",
   "execution_count": 3,
   "metadata": {},
   "outputs": [],
   "source": [
    "subscription_id = '5f08d643-1910-4a38-a7c7-84a39d4f42e0'\n",
    "resource_group = 'sdk_vnext_cli'\n",
    "workspace = 'sdk_vnext_cli'"
   ]
  },
  {
   "cell_type": "code",
   "execution_count": null,
   "metadata": {},
   "outputs": [],
   "source": [
    "%env AZUREML_DEV_URL_MFE=http://localhost:65535/mferp/managementfrontend"
   ]
  },
  {
   "cell_type": "code",
   "execution_count": 4,
   "metadata": {},
   "outputs": [],
   "source": [
    "from azure.ml import MLClient\n",
    "\n",
    "# ml_client = MLClient(subscription_id, resource_group)\n",
    "ml_client = MLClient(subscription_id, resource_group, default_workspace_name=workspace)"
   ]
  },
  {
   "cell_type": "code",
   "execution_count": 5,
   "metadata": {},
   "outputs": [
    {
     "name": "stderr",
     "output_type": "stream",
     "text": [
      "ManagedIdentityCredential.get_token failed: ManagedIdentityCredential authentication unavailable, no managed identity endpoint found.\n",
      "Uploading endpoint: 100%|████████████████████████████████████████████████████████████████| 1/1 [00:00<00:00, 14.62it/s]\n",
      "Readonly attribute name will be ignored in class <class 'azure.ml._restclient.machinelearningservices.models._models_py3.CodeContainerResource'>\n"
     ]
    },
    {
     "data": {
      "text/plain": [
       "<azure.ml._restclient.machinelearningservices.models._models_py3.BatchEndpointTrackedResource at 0x163f8430a00>"
      ]
     },
     "execution_count": 5,
     "metadata": {},
     "output_type": "execute_result"
    }
   ],
   "source": [
    "ml_client.endpoints.create(file=\"../yaml/batch_endpoint.yaml\")"
   ]
  },
  {
   "cell_type": "code",
   "execution_count": 6,
   "metadata": {},
   "outputs": [
    {
     "data": {
      "text/plain": [
       "{'additional_properties': {},\n",
       " 'description': 'my sample batch endpoint',\n",
       " 'properties': {},\n",
       " 'traffic_rules': {'blue': 100},\n",
       " 'compute_configuration': None,\n",
       " 'provisioning_state': 'Succeeded',\n",
       " 'endpoint': 'https://master.api.azureml-test.ms/pipelines/v1.0/subscriptions/5f08d643-1910-4a38-a7c7-84a39d4f42e0/resourceGroups/sdk_vnext_cli/providers/Microsoft.MachineLearningServices/workspaces/sdk_vnext_cli/PipelineRuns/PipelineEndpointSubmit/Id/551e4516-bfbc-4084-b2de-2b44c3347ddb',\n",
       " 'swagger_endpoint': None,\n",
       " 'auth_mode': 'AMLToken',\n",
       " 'keys': None}"
      ]
     },
     "execution_count": 6,
     "metadata": {},
     "output_type": "execute_result"
    }
   ],
   "source": [
    "ml_client.endpoints.get(name=\"myBatchEndpoint\", type=\"batch\").properties.__dict__"
   ]
  },
  {
   "cell_type": "code",
   "execution_count": null,
   "metadata": {},
   "outputs": [],
   "source": []
  }
 ],
 "metadata": {
  "kernelspec": {
   "display_name": "Python 3",
   "language": "python",
   "name": "python3"
  },
  "language_info": {
   "codemirror_mode": {
    "name": "ipython",
    "version": 3
   },
   "file_extension": ".py",
   "mimetype": "text/x-python",
   "name": "python",
   "nbconvert_exporter": "python",
   "pygments_lexer": "ipython3",
   "version": "3.8.3"
  }
 },
 "nbformat": 4,
 "nbformat_minor": 4
}
