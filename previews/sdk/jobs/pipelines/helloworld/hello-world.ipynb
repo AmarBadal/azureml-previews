{
 "cells": [
  {
   "cell_type": "code",
   "execution_count": 1,
   "metadata": {},
   "outputs": [],
   "source": [
    "#import required libraries\n",
    "from azure.ml import MLClient\n",
    "from azure.ml.entities import CommandJob, Code, PipelineJob"
   ]
  },
  {
   "cell_type": "code",
   "execution_count": 2,
   "metadata": {},
   "outputs": [],
   "source": [
    "#Enter details of your AML workspace\n",
    "subscription_id = '15ae9cb6-95c1-483d-a0e3-b1a1a3b06324'\n",
    "resource_group = 'balapv'\n",
    "workspace = 'dpv2priprev'"
   ]
  },
  {
   "cell_type": "code",
   "execution_count": 3,
   "metadata": {},
   "outputs": [],
   "source": [
    "#get a handle to the workspace\n",
    "ml_client = MLClient(subscription_id, resource_group, workspace)"
   ]
  },
  {
   "cell_type": "code",
   "execution_count": 7,
   "metadata": {},
   "outputs": [],
   "source": [
    "# Define the command job that will get run inside the pipeline\n",
    "cmd = 'echo \"hello\"'\n",
    "job = CommandJob(command=cmd,\n",
    "                         environment='AzureML-Minimal:18',\n",
    "                         compute='cpu-cluster')\n",
    "\n",
    "# Create the pipeline job\n",
    "pipeline_job = PipelineJob(description='sample pipeline job that runs a command job',\n",
    "                           jobs={'train': job})"
   ]
  },
  {
   "cell_type": "code",
   "execution_count": 8,
   "metadata": {},
   "outputs": [
    {
     "name": "stderr",
     "output_type": "stream",
     "text": [
      "Uploading COMPONENT_PLACEHOLDER: 100%|██████████| 41.0/41.0 [00:00<00:00, 396B/s]\n",
      "compute is not a known attribute of class <class 'azure.ml._restclient.v2021_10_01.models._models_py3.PipelineJob'> and will be ignored\n"
     ]
    },
    {
     "data": {
      "text/plain": [
       "'https://ml.azure.com/runs/0938f146-ce19-4947-9d88-308b7535b25d?wsid=/subscriptions/15ae9cb6-95c1-483d-a0e3-b1a1a3b06324/resourcegroups/balapv/workspaces/dpv2priprev&tid=72f988bf-86f1-41af-91ab-2d7cd011db47'"
      ]
     },
     "execution_count": 8,
     "metadata": {},
     "output_type": "execute_result"
    }
   ],
   "source": [
    "#submit the pipeline job\n",
    "returned_job = ml_client.jobs.create_or_update(pipeline_job)\n",
    "#get a URL for the status of the job\n",
    "returned_job.services[\"Studio\"].endpoint"
   ]
  }
 ],
 "metadata": {
  "interpreter": {
   "hash": "45ee23ad53d8447c1a4a7f9f605254595f8ee53c2e1723e7948bbd485e96ca91"
  },
  "kernelspec": {
   "display_name": "Python 3.7.10 64-bit ('vnext': conda)",
   "name": "python3"
  },
  "language_info": {
   "codemirror_mode": {
    "name": "ipython",
    "version": 3
   },
   "file_extension": ".py",
   "mimetype": "text/x-python",
   "name": "python",
   "nbconvert_exporter": "python",
   "pygments_lexer": "ipython3",
   "version": "3.7.10"
  },
  "orig_nbformat": 4
 },
 "nbformat": 4,
 "nbformat_minor": 2
}
