{
 "cells": [
  {
   "cell_type": "code",
   "execution_count": null,
   "metadata": {},
   "outputs": [],
   "source": [
    "#import required libraries\n",
    "from azure.ml import MLClient\n",
    "from azure.ml.entities import CommandJob, Code, PipelineJob"
   ]
  },
  {
   "cell_type": "code",
   "execution_count": null,
   "metadata": {},
   "outputs": [],
   "source": [
    "#Enter details of your AML workspace\n",
    "subscription_id = '15ae9cb6-95c1-483d-a0e3-b1a1a3b06324'\n",
    "resource_group = 'balapv'\n",
    "workspace = 'dpv2priprev'"
   ]
  },
  {
   "cell_type": "code",
   "execution_count": null,
   "metadata": {},
   "outputs": [],
   "source": [
    "#get a handle to the workspace\n",
    "ml_client = MLClient(subscription_id, resource_group, workspace)"
   ]
  },
  {
   "cell_type": "code",
   "execution_count": null,
   "metadata": {},
   "outputs": [],
   "source": [
    "# Define the command job that will get run inside the pipeline\n",
    "cmd1 = \"echo \"'\"hello\"'\" && echo \"'\"world\"'\" > ${{outputs.world_output}}/world.txt\"\n",
    "\n",
    "job1_outputs = {\"world_output\":None}\n",
    "\n",
    "job1 = CommandJob(\n",
    "    command = cmd1,\n",
    "    environment = 'AzureML-Minimal:18',\n",
    "    compute = 'cpu-cluster',\n",
    "    outputs=job1_outputs)"
   ]
  },
  {
   "cell_type": "code",
   "execution_count": null,
   "metadata": {},
   "outputs": [],
   "source": [
    "cmd2 = \"cat ${{inputs.world_input}}/world.txt\"\n",
    "\n",
    "job2_inputs = {'world_input': '${{jobs.job1.outputs.world_output}}'}\n",
    "\n",
    "job2 = CommandJob(\n",
    "    command=cmd2,\n",
    "    environment = 'AzureML-Minimal:18',\n",
    "    compute='cpu-cluster',\n",
    "    inputs=job2_inputs)\n"
   ]
  },
  {
   "cell_type": "code",
   "execution_count": null,
   "metadata": {},
   "outputs": [],
   "source": [
    "pipeline_job = PipelineJob(\n",
    "    description='test',\n",
    "    jobs={'job1':job1, 'job2': job2}\n",
    ")"
   ]
  },
  {
   "cell_type": "code",
   "execution_count": null,
   "metadata": {},
   "outputs": [],
   "source": [
    "#submit the pipeline job\n",
    "returned_job = ml_client.jobs.create_or_update(pipeline_job)\n",
    "#get a URL for the status of the job\n",
    "returned_job.services[\"Studio\"].endpoint"
   ]
  }
 ],
 "metadata": {
  "interpreter": {
   "hash": "45ee23ad53d8447c1a4a7f9f605254595f8ee53c2e1723e7948bbd485e96ca91"
  },
  "kernelspec": {
   "display_name": "Python 3.7.10 64-bit ('vnext': conda)",
   "name": "python3"
  },
  "language_info": {
   "codemirror_mode": {
    "name": "ipython",
    "version": 3
   },
   "file_extension": ".py",
   "mimetype": "text/x-python",
   "name": "python",
   "nbconvert_exporter": "python",
   "pygments_lexer": "ipython3",
   "version": "3.7.10"
  },
  "orig_nbformat": 4
 },
 "nbformat": 4,
 "nbformat_minor": 2
}
