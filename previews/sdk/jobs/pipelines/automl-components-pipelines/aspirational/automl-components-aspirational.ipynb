{
 "cells": [
  {
   "cell_type": "code",
   "execution_count": null,
   "source": [
    "#import required libraries\r\n",
    "from azure.ml import MLClient\r\n",
    "import mlflow\r\n",
    "from azure.ml.entities import CommandJob, Code, PipelineJob, Dataset, InputDatasetEntry\r\n",
    "from azure.ml.entities import AutoMLJob"
   ],
   "outputs": [],
   "metadata": {}
  },
  {
   "cell_type": "code",
   "execution_count": null,
   "source": [
    "#Enter details of your AML workspace\r\n",
    "subscription_id = '15ae9cb6-95c1-483d-a0e3-b1a1a3b06324'\r\n",
    "resource_group = 'automldpv2priprev-resgrp'\r\n",
    "workspace = 'automldpv2priprev'"
   ],
   "outputs": [],
   "metadata": {}
  },
  {
   "cell_type": "code",
   "execution_count": null,
   "source": [
    "#get a handle to the workspace\r\n",
    "ml_client = MLClient(subscription_id, resource_group, workspace)\r\n",
    "assert client is not None"
   ],
   "outputs": [],
   "metadata": {}
  },
  {
   "cell_type": "markdown",
   "source": [
    "## Initialize MLFlow Client\r\n",
    "\r\n",
    "The models and artifacts that are produced by AutoML can be accessed by the MLFlow interface. Initialize the MLFlow client here, and set the backend as Azure ML, via. the MLFlow Client.\r\n",
    "\r\n",
    "**Questions**\r\n",
    "\r\n",
    "Q: Can we set this (the tracking URI) inside AutoML, given things won't work at all w/o setting MLFlow context above?\r\n",
    "\r\n",
    "Q: Do we need MLFlow client for job submissions?"
   ],
   "metadata": {}
  },
  {
   "cell_type": "code",
   "execution_count": null,
   "source": [
    "# Can this MLFlow initialization call be made transparently from MLFlow Client instead of explecetely?\r\n",
    "\r\n",
    "tracking_uri = \"TODO --> Get this from MLClient\"\r\n",
    "\r\n",
    "################################################################################\r\n",
    "# TODO: The API to get tracking URI is not yet available on Worksapce object.\r\n",
    "from azureml.core import Workspace as WorkspaceV1\r\n",
    "ws = WorkspaceV1(workspace_name=workspace_name, resource_group=resource_group_name, subscription_id=subscription_id)\r\n",
    "tracking_uri = ws.get_mlflow_tracking_uri()\r\n",
    "del ws\r\n",
    "################################################################################\r\n",
    "\r\n",
    "mlflow.set_tracking_uri(tracking_uri)\r\n",
    "mlflow.set_experiment(experiment_name)\r\n",
    "\r\n",
    "print(\"\\nCurrent tracking uri: {}\".format(mlflow.get_tracking_uri()))"
   ],
   "outputs": [],
   "metadata": {}
  },
  {
   "cell_type": "code",
   "execution_count": null,
   "source": [
    "#create the inputs and outputs required for the pipeline\r\n",
    "my_local_single_dataset = Dataset(\r\n",
    "    local_path=\"./data\"\r\n",
    ")\r\n",
    "pipeline_job_inputs = {'raw_dataset_from_pipeline': InputDatasetEntry(dataset=my_local_single_dataset),\r\n",
    "                       'n_cross_validations_from_pipeline': '5',\r\n",
    "                       'task_from_pipeline': 'regression',\r\n",
    "                       'optimization_metric_from_pipeline': 'normalized_root_mean_squared_error',\r\n",
    "                       'target_column_name_from_pipeline': 'price'\r\n",
    "                      }"
   ],
   "outputs": [],
   "metadata": {}
  },
  {
   "cell_type": "markdown",
   "source": [
    "**Questions:**\r\n",
    "\r\n",
    "Q: Should parameters number based be specified as numbers, not as text? i.e. '5'. In original example from pipelines it was:\r\n",
    "pipeline_job_inputs = {'max_epocs_from_pipeline': '20', ...\r\n",
    "\r\n",
    "Q: Should we define pipeline outputs here or at the end?..."
   ],
   "metadata": {}
  },
  {
   "cell_type": "markdown",
   "source": [
    "# AutoFeaturization Job/Component"
   ],
   "metadata": {}
  },
  {
   "cell_type": "code",
   "execution_count": null,
   "source": [
    "# Define the AutoFeaturizationJob (Component?)\r\n",
    "\r\n",
    "autofeaturization_job_inputs = {'data': '${{inputs.raw_dataset_from_pipeline}}',  #upload the local data into a dataset\r\n",
    "                                'n_cross_validations': '${{inputs.n_cross_validations_from_pipeline}}', #take this input from the pipeline inputs\r\n",
    "                                'task': '${{inputs.task_from_pipeline}}', #take this input from the pipeline inputs \r\n",
    "                                'optimization_metric': '${{inputs.optimization_metric_from_pipeline}}', #take this input from the pipeline inputs \r\n",
    "                                'target_column_name': '${{inputs.target_column_name_from_pipeline}}' #take this input from the pipeline inputs  \r\n",
    "                               } \r\n",
    "                                \r\n",
    "autofeaturization_job_outputs = {'featurized_training_data': None,\r\n",
    "                                 'featurized_validation_data': None,\r\n",
    "                                 'featurizer': None\r\n",
    "                                }\r\n",
    "\r\n",
    "autofeaturization_job = AutoFeaturizationJob(\r\n",
    "    inputs = autofeaturization_job_inputs, #inputs to the job\r\n",
    "    outputs = autofeaturization_job_outputs, #outputs of the job\r\n",
    "    compute = 'azureml:cpu_cluster' #<override with some other compute if needed>\r\n",
    ")"
   ],
   "outputs": [],
   "metadata": {}
  },
  {
   "cell_type": "markdown",
   "source": [
    "# NOTE:\r\n",
    "\r\n",
    "'featurized_training_data' and 'featurized_validation_data' would contain a single dataset if training/validation split, or would contain multiple datasets each (correlated), one per CV fold. I.e. 5 correlated datasets each (implementation TBD, folders, list of objects?)."
   ],
   "metadata": {}
  },
  {
   "cell_type": "markdown",
   "source": [
    "## Issues / Problems to be solved\r\n",
    "\r\n",
    "Q: What \"type\" are 'featurized_training_data' and 'featurized_validation_data'?\r\n",
    "   - List(TabularDataset)?\r\n",
    "   - Path to a blob with \"MLDatasetArtifact\" (currently in spec only, Daniel-Sch) at rest with multiple folders one per dataset?\r\n",
    "   - Other? \r\n",
    "\r\n",
    "\r\n",
    "Q: Do we need \"environment\" parameter for the AutoML-components? Or we use it internally only?\r\n"
   ],
   "metadata": {}
  },
  {
   "cell_type": "markdown",
   "source": [
    "# AutoTrain Job/Component"
   ],
   "metadata": {}
  },
  {
   "cell_type": "code",
   "execution_count": null,
   "source": [
    "# Define the AutoTrainJob to run in the pipeline\r\n",
    "\r\n",
    "### train_cmd = \"python train.py --training_data ${{inputs.training_data}} --test_data ${{outputs.test_data}} --model_output ${{outputs.model_output}}\"\r\n",
    "\r\n",
    "autotrain_job_inputs = {'data': '${{jobs.autofeaturization-job.outputs.featurized_training_data}}',\r\n",
    "                        'validation_data':  '${{jobs.autofeaturization-job.outputs.featurized_validation_data}}', \r\n",
    "                        'task': '${{inputs.task_from_pipeline}}', #take this input from the pipeline inputs \r\n",
    "                        'optimization_metric': '${{inputs.optimization_metric_from_pipeline}}', #take this input from the pipeline inputs \r\n",
    "                        'target_column_name': '${{inputs.target_column_name_from_pipeline}}' #take this input from the pipeline inputs\r\n",
    "                       } \r\n",
    "\r\n",
    "autotrain_job_outputs = {'best_model': None, 'validation_predictions': None}\r\n",
    "\r\n",
    "autotrain_job = AutoTrainJob(\r\n",
    "    inputs = autotrain_job_inputs, #inputs to the job\r\n",
    "    outputs = autotrain_job_outputs, #outputs of the job\r\n",
    "    compute = 'azureml:cpu_cluster' #<override with some other compute if needed>\r\n",
    ")\r\n"
   ],
   "outputs": [],
   "metadata": {}
  },
  {
   "cell_type": "markdown",
   "source": [
    "# Define the Pipeline"
   ],
   "metadata": {}
  },
  {
   "cell_type": "code",
   "execution_count": null,
   "source": [
    "# lets create the pipeline\r\n",
    "\r\n",
    "pipeline_job = PipelineJob(\r\n",
    "    description = 'automl-componentization-example',\r\n",
    "    jobs= {\r\n",
    "        'autofeaturization-job':autofeaturization_job, \r\n",
    "        'autotrain-job': autotrain_job}, #add all the jobs into this pipeline\r\n",
    "    inputs= pipeline_job_inputs, #top level inputs to the pipeline\r\n",
    "    outputs=autotrain_job_outputs,\r\n",
    "    compute = \"cpu-cluster\"\r\n",
    ")\r\n"
   ],
   "outputs": [],
   "metadata": {}
  },
  {
   "cell_type": "markdown",
   "source": [
    "# QUESTIONS on Pipeline Outputs\r\n",
    "\r\n",
    "Q: Is the pipeline outputs right? How can we merge multiple outputs from multiple jobs/components instead of having just the outputs from the autotrain job?\r\n",
    "\r\n"
   ],
   "metadata": {}
  },
  {
   "cell_type": "code",
   "execution_count": null,
   "source": [
    "#submit the pipeline job\r\n",
    "returned_job = ml_client.jobs.create_or_update(pipeline_job)\r\n",
    "#get a URL for the status of the job\r\n",
    "returned_job.services[\"Studio\"].endpoint"
   ],
   "outputs": [],
   "metadata": {}
  },
  {
   "cell_type": "markdown",
   "source": [
    "# OTHER DEVELOPMENT EXPERIENCE CONSIDERATIONS\r\n",
    "\r\n",
    "**Better way to define INPUTS/OUTPUTS?**: The definition of inputs/outputs is defined with JSON... that's a evry lose way of doing it, not intellisense, etc. prone to errors as compared to object's properties. Is there any other better way for defining the inputs/outputs instead of using JSON?"
   ],
   "metadata": {}
  }
 ],
 "metadata": {
  "interpreter": {
   "hash": "45ee23ad53d8447c1a4a7f9f605254595f8ee53c2e1723e7948bbd485e96ca91"
  },
  "kernelspec": {
   "display_name": "Python 3.7.10 64-bit ('vnext': conda)",
   "name": "python3"
  },
  "language_info": {
   "codemirror_mode": {
    "name": "ipython",
    "version": 3
   },
   "file_extension": ".py",
   "mimetype": "text/x-python",
   "name": "python",
   "nbconvert_exporter": "python",
   "pygments_lexer": "ipython3",
   "version": "3.7.10"
  }
 },
 "nbformat": 4,
 "nbformat_minor": 2
}