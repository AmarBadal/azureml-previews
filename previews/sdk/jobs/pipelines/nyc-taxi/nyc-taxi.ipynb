{
 "cells": [
  {
   "cell_type": "code",
   "execution_count": null,
   "metadata": {},
   "outputs": [],
   "source": [
    "#import required libraries\n",
    "from azure.ml import MLClient\n",
    "from azure.ml.entities import CommandJob, Code, PipelineJob, Dataset, InputDatasetEntry"
   ]
  },
  {
   "cell_type": "code",
   "execution_count": null,
   "metadata": {},
   "outputs": [],
   "source": [
    "#Enter details of your AML workspace\n",
    "subscription_id = 'b17253fa-f327-42d6-9686-f3e553e24763'\n",
    "resource_group = 'testharnvir-local'\n",
    "workspace = 'diab-ws01'"
   ]
  },
  {
   "cell_type": "code",
   "execution_count": null,
   "metadata": {},
   "outputs": [],
   "source": [
    "#get a handle to the workspace\n",
    "ml_client = MLClient(subscription_id, resource_group, workspace)"
   ]
  },
  {
   "cell_type": "code",
   "execution_count": null,
   "metadata": {},
   "outputs": [],
   "source": [
    "#define the prep-job to run in the pipeline\n",
    "prep_cmd = \"pip freeze && echo ${{inputs.max_epocs}} && python prep.py --raw_data ${{inputs.raw_data}} --prep_data ${{outputs.prep_data}}\"\n",
    "prep_data = Dataset(\n",
    "    local_path=\"./data\"\n",
    ")\n",
    "\n",
    "pipeline_job_inputs = {'max_epocs_from_pipeline': '20', 'raw_data_from_pipeline': prep_data}\n",
    "prep_job_inputs = {'max_epocs': '${{inputs.max_epocs_from_pipeline}}', 'raw_data': InputDatasetEntry(dataset=prep_data)}\n",
    "prep_job_outputs = {'prep_data': None}\n",
    "\n",
    "job1 = CommandJob(\n",
    "    code=Code(local_path=\"./src/prep\"), #local path where the code is stored\n",
    "    command = prep_cmd,\n",
    "    inputs=prep_job_inputs,\n",
    "    outputs=prep_job_outputs,\n",
    "    environment = \"AzureML-sklearn-0.24-ubuntu18.04-py37-cuda11-gpu:9\",\n",
    "    compute = \"cpu-cluster\"\n",
    ")"
   ]
  },
  {
   "cell_type": "code",
   "execution_count": null,
   "metadata": {},
   "outputs": [],
   "source": [
    "# lets create the pipeline\n",
    "pipeline_job = PipelineJob(\n",
    "    description = 'nyc-taxi-pipeline-example',\n",
    "    jobs= {'prep-job':job1},\n",
    "    inputs= pipeline_job_inputs,\n",
    "    outputs=prep_job_outputs,\n",
    "    compute = \"cpu-cluster\"\n",
    "    # compute={\"target\": \"cpu-cluster\"},\n",
    ")"
   ]
  },
  {
   "cell_type": "code",
   "execution_count": null,
   "metadata": {},
   "outputs": [],
   "source": [
    "#submit the pipeline job\n",
    "returned_job = ml_client.jobs.create_or_update(pipeline_job)\n",
    "#get a URL for the status of the job\n",
    "returned_job.services[\"Studio\"].endpoint"
   ]
  },
  {
   "cell_type": "code",
   "execution_count": null,
   "metadata": {},
   "outputs": [],
   "source": []
  }
 ],
 "metadata": {
  "interpreter": {
   "hash": "45ee23ad53d8447c1a4a7f9f605254595f8ee53c2e1723e7948bbd485e96ca91"
  },
  "kernelspec": {
   "display_name": "Python (py37v2)",
   "language": "python",
   "name": "py37v2"
  },
  "language_info": {
   "codemirror_mode": {
    "name": "ipython",
    "version": 3
   },
   "file_extension": ".py",
   "mimetype": "text/x-python",
   "name": "python",
   "nbconvert_exporter": "python",
   "pygments_lexer": "ipython3",
   "version": "3.7.11"
  }
 },
 "nbformat": 4,
 "nbformat_minor": 2
}
