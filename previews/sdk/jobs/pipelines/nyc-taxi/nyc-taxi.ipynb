{
 "cells": [
  {
   "cell_type": "code",
   "execution_count": null,
   "metadata": {},
   "outputs": [],
   "source": [
    "#import required libraries\n",
    "from azure.ml import MLClient\n",
    "from azure.ml.entities import CommandJob, Code, PipelineJob, Dataset, MPIConfiguration "
   ]
  },
  {
   "cell_type": "code",
   "execution_count": null,
   "metadata": {},
   "outputs": [],
   "source": [
    "#Enter details of your AML workspace\n",
    "subscription_id = '15ae9cb6-95c1-483d-a0e3-b1a1a3b06324'\n",
    "resource_group = 'balapv'\n",
    "workspace = 'dpv2priprev'"
   ]
  },
  {
   "cell_type": "code",
   "execution_count": null,
   "metadata": {},
   "outputs": [],
   "source": [
    "#get a handle to the workspace\n",
    "ml_client = MLClient(subscription_id, resource_group, workspace)"
   ]
  },
  {
   "cell_type": "code",
   "execution_count": null,
   "metadata": {},
   "outputs": [],
   "source": [
    "#define the prep-job to run in the pipeline\n",
    "prep_cmd = \"python prep.py --raw_data ${{inputs.raw_data}} --prep_data ${{outputs.prep_data}}\"\n",
    "prep_data = Dataset(\n",
    "    local_path=\"./data/\"\n",
    ")\n",
    "prep_job_inputs = {'raw_data': prep_data}\n",
    "prep_job_outputs = {'prep_data': None}\n",
    "\n",
    "prep_job = CommandJob(\n",
    "    code=Code(local_path=\"./src/prep\"), #local path where the code is stored\n",
    "    command = prep_cmd,\n",
    "    inputs=prep_job_inputs,\n",
    "    outputs=prep_job_outputs,\n",
    "    environment = \"AzureML-sklearn-0.24-ubuntu18.04-py37-cuda11-gpu:9\",\n",
    "    compute = \"cpu-cluster\"\n",
    ")"
   ]
  },
  {
   "cell_type": "code",
   "execution_count": null,
   "metadata": {},
   "outputs": [],
   "source": [
    "#lets create the pipeline\n",
    "pipeline_job = PipelineJob(\n",
    "    description = 'nyc-taxi-pipeline-example',\n",
    "    jobs= {'prep-job':prep_job}\n",
    ")"
   ]
  },
  {
   "cell_type": "code",
   "execution_count": null,
   "metadata": {},
   "outputs": [],
   "source": [
    "#submit the pipeline job\n",
    "returned_job = ml_client.jobs.create_or_update(pipeline_job)\n",
    "#get a URL for the status of the job\n",
    "returned_job.services[\"Studio\"].endpoint"
   ]
  }
 ],
 "metadata": {
  "interpreter": {
   "hash": "45ee23ad53d8447c1a4a7f9f605254595f8ee53c2e1723e7948bbd485e96ca91"
  },
  "kernelspec": {
   "display_name": "Python 3.7.10 64-bit ('vnext': conda)",
   "name": "python3"
  },
  "language_info": {
   "codemirror_mode": {
    "name": "ipython",
    "version": 3
   },
   "file_extension": ".py",
   "mimetype": "text/x-python",
   "name": "python",
   "nbconvert_exporter": "python",
   "pygments_lexer": "ipython3",
   "version": "3.7.10"
  },
  "orig_nbformat": 4
 },
 "nbformat": 4,
 "nbformat_minor": 2
}
