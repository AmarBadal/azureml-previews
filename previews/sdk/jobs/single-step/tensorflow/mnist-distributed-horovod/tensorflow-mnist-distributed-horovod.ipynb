{
 "cells": [
  {
   "cell_type": "code",
   "execution_count": null,
   "metadata": {},
   "outputs": [],
   "source": [
    "#import required libraries\n",
    "from azure.ml import MLClient\n",
    "from azure.ml.entities import CommandJob, Code, ResourceConfiguration"
   ]
  },
  {
   "cell_type": "code",
   "execution_count": null,
   "metadata": {},
   "outputs": [],
   "source": [
    "#Enter details of your AML workspace\n",
    "subscription_id = '15ae9cb6-95c1-483d-a0e3-b1a1a3b06324'\n",
    "resource_group = 'balapv'\n",
    "workspace = 'dpv2priprev'"
   ]
  },
  {
   "cell_type": "code",
   "execution_count": null,
   "metadata": {},
   "outputs": [],
   "source": [
    "#get a handle to the workspace\n",
    "ml_client = MLClient(subscription_id, resource_group, workspace)"
   ]
  },
  {
   "cell_type": "code",
   "execution_count": null,
   "metadata": {},
   "outputs": [],
   "source": [
    "job = CommandJob(\n",
    "    code=Code(local_path=\"./src\"), #local path where the code is stored\n",
    "    command = \"python train.py --epochs ${{inputs.epochs}}\",\n",
    "    inputs = {\"epochs\":1},\n",
    "    environment = \"AzureML-tensorflow-2.4-ubuntu18.04-py37-cuda11-gpu:14\",\n",
    "    compute = \"gpu-cluster\",\n",
    "    resources=ResourceConfiguration(instance_count=2),\n",
    "    distribution = {\n",
    "        \"distribution_type\" : \"Mpi\",\n",
    "        \"process_count_per_instance\" : 2\n",
    "    },\n",
    "    display_name = \"tensorflow-mnist-distributed-horovod-example\"\n",
    "    # experiment_name: tensorflow-mnist-distributed-horovod-example\n",
    "    # description: Train a basic neural network with TensorFlow on the MNIST dataset, distributed via Horovod.\n",
    ")"
   ]
  },
  {
   "cell_type": "code",
   "execution_count": null,
   "metadata": {},
   "outputs": [],
   "source": [
    "#submit the command job\n",
    "returned_job = ml_client.jobs.create_or_update(job)\n",
    "#get a URL for the status of the job\n",
    "returned_job.services[\"Studio\"].endpoint"
   ]
  }
 ],
 "metadata": {
  "interpreter": {
   "hash": "45ee23ad53d8447c1a4a7f9f605254595f8ee53c2e1723e7948bbd485e96ca91"
  },
  "kernelspec": {
   "display_name": "Python 3.7.10 64-bit ('vnext': conda)",
   "name": "python3"
  },
  "language_info": {
   "codemirror_mode": {
    "name": "ipython",
    "version": 3
   },
   "file_extension": ".py",
   "mimetype": "text/x-python",
   "name": "python",
   "nbconvert_exporter": "python",
   "pygments_lexer": "ipython3",
   "version": "3.7.10"
  },
  "orig_nbformat": 4
 },
 "nbformat": 4,
 "nbformat_minor": 2
}
