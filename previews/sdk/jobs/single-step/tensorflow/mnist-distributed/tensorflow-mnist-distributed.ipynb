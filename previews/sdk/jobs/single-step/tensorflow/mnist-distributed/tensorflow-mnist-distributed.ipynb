{
  "cells": [
    {
      "cell_type": "code",
      "source": [
        "#import required libraries\n",
        "from azure.ml import MLClient\n",
        "from azure.ml.entities import CommandJob, Code, ResourceConfiguration, DistributionConfiguration "
      ],
      "outputs": [
        {
          "output_type": "error",
          "ename": "ImportError",
          "evalue": "cannot import name 'DistributionConfiguration'",
          "traceback": [
            "\u001b[0;31m---------------------------------------------------------------------------\u001b[0m",
            "\u001b[0;31mImportError\u001b[0m                               Traceback (most recent call last)",
            "\u001b[0;32m<ipython-input-9-cdf76e25e194>\u001b[0m in \u001b[0;36m<module>\u001b[0;34m\u001b[0m\n\u001b[1;32m      1\u001b[0m \u001b[0;31m#import required libraries\u001b[0m\u001b[0;34m\u001b[0m\u001b[0;34m\u001b[0m\u001b[0;34m\u001b[0m\u001b[0m\n\u001b[1;32m      2\u001b[0m \u001b[0;32mfrom\u001b[0m \u001b[0mazure\u001b[0m\u001b[0;34m.\u001b[0m\u001b[0mml\u001b[0m \u001b[0;32mimport\u001b[0m \u001b[0mMLClient\u001b[0m\u001b[0;34m\u001b[0m\u001b[0;34m\u001b[0m\u001b[0m\n\u001b[0;32m----> 3\u001b[0;31m \u001b[0;32mfrom\u001b[0m \u001b[0mazure\u001b[0m\u001b[0;34m.\u001b[0m\u001b[0mml\u001b[0m\u001b[0;34m.\u001b[0m\u001b[0mentities\u001b[0m \u001b[0;32mimport\u001b[0m \u001b[0mCommandJob\u001b[0m\u001b[0;34m,\u001b[0m \u001b[0mCode\u001b[0m\u001b[0;34m,\u001b[0m \u001b[0mResourceConfiguration\u001b[0m\u001b[0;34m,\u001b[0m \u001b[0mDistributionConfiguration\u001b[0m\u001b[0;34m\u001b[0m\u001b[0;34m\u001b[0m\u001b[0m\n\u001b[0m",
            "\u001b[0;31mImportError\u001b[0m: cannot import name 'DistributionConfiguration'"
          ]
        }
      ],
      "execution_count": 9,
      "metadata": {
        "gather": {
          "logged": 1634855250896
        }
      }
    },
    {
      "cell_type": "code",
      "source": [
        "#Enter details of your AML workspace\n",
        "subscription_id = '15ae9cb6-95c1-483d-a0e3-b1a1a3b06324'\n",
        "resource_group = 'balapv'\n",
        "workspace = 'dpv2priprev'"
      ],
      "outputs": [],
      "execution_count": 2,
      "metadata": {
        "gather": {
          "logged": 1634855251071
        }
      }
    },
    {
      "cell_type": "code",
      "source": [
        "#get a handle to the workspace\n",
        "ml_client = MLClient(subscription_id, resource_group, workspace)"
      ],
      "outputs": [],
      "execution_count": 3,
      "metadata": {
        "gather": {
          "logged": 1634855251241
        }
      }
    },
    {
      "cell_type": "code",
      "source": [
        "#create the command job\n",
        "job = CommandJob(\n",
        "    code=Code(local_path=\"./src\"), #local path where the code is stored\n",
        "    command = \"python main.py --epochs ${{inputs.epochs}} --model-dir ${{inputs.model_dir}}\",\n",
        "    inputs={\"epochs\":1, \"model_dir\":\"outputs/keras-model\"},\n",
        "    environment = \"AzureML-tensorflow-2.4-ubuntu18.04-py37-cuda11-gpu\",\n",
        "    compute = \"gpu-cluster\",\n",
        "    resources=ResourceConfiguration(instance_count=2),\n",
        "    distribution = DistributionConfiguration(),    \n",
        "    display_name = \"tensorflow-mnist-distributed-example\"\n",
        "    #experiment_name: tensorflow-mnist-distributed-example\n",
        "    #description: Train a basic neural network with TensorFlow on the MNIST dataset, distributed via TensorFlow.\n",
        ")"
      ],
      "outputs": [],
      "execution_count": 7,
      "metadata": {
        "gather": {
          "logged": 1634855420019
        }
      }
    },
    {
      "cell_type": "code",
      "source": [
        "#submit the command job\r\n",
        "returned_job = ml_client.jobs.create_or_update(job)\r\n",
        "#get a URL for the status of the job\r\n",
        "returned_job.services[\"Studio\"].endpoint"
      ],
      "outputs": [
        {
          "output_type": "stream",
          "name": "stderr",
          "text": "Discriminator distribution_type is absent or null, use base class DistributionConfiguration.\n"
        },
        {
          "output_type": "error",
          "ename": "HttpResponseError",
          "evalue": "(UserError) Missing discriminator property [DistributionType] in request body.\nCode: UserError\nMessage: Missing discriminator property [DistributionType] in request body.\nAdditional Information:Type: ComponentName\nInfo: {\n    \"value\": \"managementfrontend\"\n}Type: Correlation\nInfo: {\n    \"value\": {\n        \"operation\": \"8ad0c0c20410464d8811607c4a94208a\",\n        \"request\": \"213caa8c820e3546\"\n    }\n}Type: Environment\nInfo: {\n    \"value\": \"eastus\"\n}Type: Location\nInfo: {\n    \"value\": \"eastus\"\n}Type: Time\nInfo: {\n    \"value\": \"2021-10-21T22:30:24.5178949+00:00\"\n}Type: InnerError\nInfo: {\n    \"value\": {\n        \"code\": \"BadData\",\n        \"innerError\": {\n            \"code\": \"UnableToParse\",\n            \"innerError\": {\n                \"code\": \"JsonDiscriminatorMissing\",\n                \"innerError\": null\n            }\n        }\n    }\n}Type: MessageFormat\nInfo: {\n    \"value\": \"Missing discriminator property [{discriminatorName}] in request body.\"\n}Type: MessageParameters\nInfo: {\n    \"value\": {\n        \"discriminatorName\": \"DistributionType\"\n    }\n}",
          "traceback": [
            "\u001b[0;31m---------------------------------------------------------------------------\u001b[0m",
            "\u001b[0;31mHttpResponseError\u001b[0m                         Traceback (most recent call last)",
            "\u001b[0;32m<ipython-input-8-1a4842e4d265>\u001b[0m in \u001b[0;36m<module>\u001b[0;34m\u001b[0m\n\u001b[1;32m      1\u001b[0m \u001b[0;31m#submit the command job\u001b[0m\u001b[0;34m\u001b[0m\u001b[0;34m\u001b[0m\u001b[0;34m\u001b[0m\u001b[0m\n\u001b[0;32m----> 2\u001b[0;31m \u001b[0mreturned_job\u001b[0m \u001b[0;34m=\u001b[0m \u001b[0mml_client\u001b[0m\u001b[0;34m.\u001b[0m\u001b[0mjobs\u001b[0m\u001b[0;34m.\u001b[0m\u001b[0mcreate_or_update\u001b[0m\u001b[0;34m(\u001b[0m\u001b[0mjob\u001b[0m\u001b[0;34m)\u001b[0m\u001b[0;34m\u001b[0m\u001b[0;34m\u001b[0m\u001b[0m\n\u001b[0m\u001b[1;32m      3\u001b[0m \u001b[0;31m#get a URL for the status of the job\u001b[0m\u001b[0;34m\u001b[0m\u001b[0;34m\u001b[0m\u001b[0;34m\u001b[0m\u001b[0m\n\u001b[1;32m      4\u001b[0m \u001b[0mreturned_job\u001b[0m\u001b[0;34m.\u001b[0m\u001b[0mservices\u001b[0m\u001b[0;34m[\u001b[0m\u001b[0;34m\"Studio\"\u001b[0m\u001b[0;34m]\u001b[0m\u001b[0;34m.\u001b[0m\u001b[0mendpoint\u001b[0m\u001b[0;34m\u001b[0m\u001b[0;34m\u001b[0m\u001b[0m\n",
            "\u001b[0;32m/anaconda/envs/azureml_py36/lib/python3.6/site-packages/azure/ml/_operations/job_operations.py\u001b[0m in \u001b[0;36mcreate_or_update\u001b[0;34m(self, job)\u001b[0m\n\u001b[1;32m    204\u001b[0m                 \u001b[0mworkspace_name\u001b[0m\u001b[0;34m=\u001b[0m\u001b[0mself\u001b[0m\u001b[0;34m.\u001b[0m\u001b[0m_workspace_name\u001b[0m\u001b[0;34m,\u001b[0m\u001b[0;34m\u001b[0m\u001b[0;34m\u001b[0m\u001b[0m\n\u001b[1;32m    205\u001b[0m                 \u001b[0mbody\u001b[0m\u001b[0;34m=\u001b[0m\u001b[0mrest_job_resource\u001b[0m\u001b[0;34m,\u001b[0m\u001b[0;34m\u001b[0m\u001b[0;34m\u001b[0m\u001b[0m\n\u001b[0;32m--> 206\u001b[0;31m                 \u001b[0;34m**\u001b[0m\u001b[0mself\u001b[0m\u001b[0;34m.\u001b[0m\u001b[0m_kwargs\u001b[0m\u001b[0;34m,\u001b[0m\u001b[0;34m\u001b[0m\u001b[0;34m\u001b[0m\u001b[0m\n\u001b[0m\u001b[1;32m    207\u001b[0m             )\n\u001b[1;32m    208\u001b[0m         \u001b[0;32mif\u001b[0m \u001b[0mis_local_run\u001b[0m\u001b[0;34m(\u001b[0m\u001b[0mresult\u001b[0m\u001b[0;34m)\u001b[0m\u001b[0;34m:\u001b[0m\u001b[0;34m\u001b[0m\u001b[0;34m\u001b[0m\u001b[0m\n",
            "\u001b[0;32m/anaconda/envs/azureml_py36/lib/python3.6/site-packages/azure/ml/_restclient/v2021_10_01/operations/_jobs_operations.py\u001b[0m in \u001b[0;36mcreate_or_update\u001b[0;34m(self, id, resource_group_name, workspace_name, body, **kwargs)\u001b[0m\n\u001b[1;32m    397\u001b[0m             \u001b[0mmap_error\u001b[0m\u001b[0;34m(\u001b[0m\u001b[0mstatus_code\u001b[0m\u001b[0;34m=\u001b[0m\u001b[0mresponse\u001b[0m\u001b[0;34m.\u001b[0m\u001b[0mstatus_code\u001b[0m\u001b[0;34m,\u001b[0m \u001b[0mresponse\u001b[0m\u001b[0;34m=\u001b[0m\u001b[0mresponse\u001b[0m\u001b[0;34m,\u001b[0m \u001b[0merror_map\u001b[0m\u001b[0;34m=\u001b[0m\u001b[0merror_map\u001b[0m\u001b[0;34m)\u001b[0m\u001b[0;34m\u001b[0m\u001b[0;34m\u001b[0m\u001b[0m\n\u001b[1;32m    398\u001b[0m             \u001b[0merror\u001b[0m \u001b[0;34m=\u001b[0m \u001b[0mself\u001b[0m\u001b[0;34m.\u001b[0m\u001b[0m_deserialize\u001b[0m\u001b[0;34m(\u001b[0m\u001b[0mmodels\u001b[0m\u001b[0;34m.\u001b[0m\u001b[0mErrorResponse\u001b[0m\u001b[0;34m,\u001b[0m \u001b[0mresponse\u001b[0m\u001b[0;34m)\u001b[0m\u001b[0;34m\u001b[0m\u001b[0;34m\u001b[0m\u001b[0m\n\u001b[0;32m--> 399\u001b[0;31m             \u001b[0;32mraise\u001b[0m \u001b[0mHttpResponseError\u001b[0m\u001b[0;34m(\u001b[0m\u001b[0mresponse\u001b[0m\u001b[0;34m=\u001b[0m\u001b[0mresponse\u001b[0m\u001b[0;34m,\u001b[0m \u001b[0mmodel\u001b[0m\u001b[0;34m=\u001b[0m\u001b[0merror\u001b[0m\u001b[0;34m,\u001b[0m \u001b[0merror_format\u001b[0m\u001b[0;34m=\u001b[0m\u001b[0mARMErrorFormat\u001b[0m\u001b[0;34m)\u001b[0m\u001b[0;34m\u001b[0m\u001b[0;34m\u001b[0m\u001b[0m\n\u001b[0m\u001b[1;32m    400\u001b[0m \u001b[0;34m\u001b[0m\u001b[0m\n\u001b[1;32m    401\u001b[0m         \u001b[0;32mif\u001b[0m \u001b[0mresponse\u001b[0m\u001b[0;34m.\u001b[0m\u001b[0mstatus_code\u001b[0m \u001b[0;34m==\u001b[0m \u001b[0;36m200\u001b[0m\u001b[0;34m:\u001b[0m\u001b[0;34m\u001b[0m\u001b[0;34m\u001b[0m\u001b[0m\n",
            "\u001b[0;31mHttpResponseError\u001b[0m: (UserError) Missing discriminator property [DistributionType] in request body.\nCode: UserError\nMessage: Missing discriminator property [DistributionType] in request body.\nAdditional Information:Type: ComponentName\nInfo: {\n    \"value\": \"managementfrontend\"\n}Type: Correlation\nInfo: {\n    \"value\": {\n        \"operation\": \"8ad0c0c20410464d8811607c4a94208a\",\n        \"request\": \"213caa8c820e3546\"\n    }\n}Type: Environment\nInfo: {\n    \"value\": \"eastus\"\n}Type: Location\nInfo: {\n    \"value\": \"eastus\"\n}Type: Time\nInfo: {\n    \"value\": \"2021-10-21T22:30:24.5178949+00:00\"\n}Type: InnerError\nInfo: {\n    \"value\": {\n        \"code\": \"BadData\",\n        \"innerError\": {\n            \"code\": \"UnableToParse\",\n            \"innerError\": {\n                \"code\": \"JsonDiscriminatorMissing\",\n                \"innerError\": null\n            }\n        }\n    }\n}Type: MessageFormat\nInfo: {\n    \"value\": \"Missing discriminator property [{discriminatorName}] in request body.\"\n}Type: MessageParameters\nInfo: {\n    \"value\": {\n        \"discriminatorName\": \"DistributionType\"\n    }\n}"
          ]
        }
      ],
      "execution_count": 8,
      "metadata": {
        "jupyter": {
          "source_hidden": false,
          "outputs_hidden": false
        },
        "nteract": {
          "transient": {
            "deleting": false
          }
        }
      }
    }
  ],
  "metadata": {
    "language_info": {
      "name": "python",
      "version": "3.6.9",
      "mimetype": "text/x-python",
      "codemirror_mode": {
        "name": "ipython",
        "version": 3
      },
      "pygments_lexer": "ipython3",
      "nbconvert_exporter": "python",
      "file_extension": ".py"
    },
    "orig_nbformat": 4,
    "kernelspec": {
      "name": "python3-azureml",
      "language": "python",
      "display_name": "Python 3.6 - AzureML"
    },
    "kernel_info": {
      "name": "python3-azureml"
    },
    "nteract": {
      "version": "nteract-front-end@1.0.0"
    }
  },
  "nbformat": 4,
  "nbformat_minor": 0
}