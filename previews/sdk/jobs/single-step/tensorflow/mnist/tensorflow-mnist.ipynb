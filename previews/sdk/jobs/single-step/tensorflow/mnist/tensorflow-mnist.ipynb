{
  "cells": [
    {
      "cell_type": "code",
      "source": [
        "#import required libraries\n",
        "from azure.ml import MLClient\n",
        "from azure.ml.entities import CommandJob, Code"
      ],
      "outputs": [],
      "execution_count": 6,
      "metadata": {
        "gather": {
          "logged": 1634854439863
        }
      }
    },
    {
      "cell_type": "code",
      "source": [
        "#Enter details of your AML workspace\n",
        "subscription_id = '15ae9cb6-95c1-483d-a0e3-b1a1a3b06324'\n",
        "resource_group = 'balapv'\n",
        "workspace = 'dpv2priprev'"
      ],
      "outputs": [],
      "execution_count": 7,
      "metadata": {
        "gather": {
          "logged": 1634854439994
        }
      }
    },
    {
      "cell_type": "code",
      "source": [
        "#get a handle to the workspace\n",
        "ml_client = MLClient(subscription_id, resource_group, workspace)"
      ],
      "outputs": [],
      "execution_count": 8,
      "metadata": {
        "gather": {
          "logged": 1634854440154
        }
      }
    },
    {
      "cell_type": "code",
      "source": [
        "#create the command job\n",
        "job = CommandJob(\n",
        "    code=Code(local_path=\"./src\"), #local path where the code is stored\n",
        "    command = \"python main.py\",\n",
        "    environment = \"AzureML-tensorflow-2.4-ubuntu18.04-py37-cuda11-gpu\",\n",
        "    compute = \"gpu-cluster\",\n",
        "    display_name = \"tensorflow-mnist-example\"\n",
        "    #experiment_name: tensorflow-mnist-example\n",
        "    #description: Train a basic neural network with TensorFlow on the MNIST dataset.\n",
        ")"
      ],
      "outputs": [],
      "execution_count": 9,
      "metadata": {
        "gather": {
          "logged": 1634854440714
        }
      }
    },
    {
      "cell_type": "code",
      "source": [
        "#submit the command job\n",
        "returned_job = ml_client.jobs.create_or_update(job)\n",
        "#get a URL for the status of the job\n",
        "returned_job.services[\"Studio\"].endpoint"
      ],
      "outputs": [
        {
          "output_type": "execute_result",
          "execution_count": 10,
          "data": {
            "text/plain": "'https://ml.azure.com/runs/503ab9ed-2f44-4397-9ae3-498855d88166?wsid=/subscriptions/15ae9cb6-95c1-483d-a0e3-b1a1a3b06324/resourcegroups/balapv/workspaces/dpv2priprev&tid=72f988bf-86f1-41af-91ab-2d7cd011db47'"
          },
          "metadata": {}
        }
      ],
      "execution_count": 10,
      "metadata": {
        "gather": {
          "logged": 1634854446905
        }
      }
    }
  ],
  "metadata": {
    "language_info": {
      "name": "python",
      "version": "3.6.9",
      "mimetype": "text/x-python",
      "codemirror_mode": {
        "name": "ipython",
        "version": 3
      },
      "pygments_lexer": "ipython3",
      "nbconvert_exporter": "python",
      "file_extension": ".py"
    },
    "orig_nbformat": 4,
    "kernelspec": {
      "name": "python3-azureml",
      "language": "python",
      "display_name": "Python 3.6 - AzureML"
    },
    "kernel_info": {
      "name": "python3-azureml"
    },
    "nteract": {
      "version": "nteract-front-end@1.0.0"
    }
  },
  "nbformat": 4,
  "nbformat_minor": 0
}