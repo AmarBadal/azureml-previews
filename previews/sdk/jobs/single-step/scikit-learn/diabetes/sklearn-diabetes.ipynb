{
  "cells": [
    {
      "cell_type": "code",
      "source": [
        "#import required libraries\r\n",
        "from azure.ml import MLClient\r\n",
        "from azure.ml.entities import CommandJob, Code"
      ],
      "outputs": [],
      "execution_count": 1,
      "metadata": {
        "gather": {
          "logged": 1634853282567
        }
      }
    },
    {
      "cell_type": "code",
      "source": [
        "#Enter details of your AML workspace\r\n",
        "subscription_id = '15ae9cb6-95c1-483d-a0e3-b1a1a3b06324'\r\n",
        "resource_group = 'balapv'\r\n",
        "workspace = 'dpv2priprev'"
      ],
      "outputs": [],
      "execution_count": 2,
      "metadata": {
        "jupyter": {
          "source_hidden": false,
          "outputs_hidden": false
        },
        "nteract": {
          "transient": {
            "deleting": false
          }
        },
        "gather": {
          "logged": 1634853282734
        }
      }
    },
    {
      "cell_type": "code",
      "source": [
        "#get a handle to the workspace\r\n",
        "ml_client = MLClient(subscription_id, resource_group, workspace)"
      ],
      "outputs": [],
      "execution_count": 3,
      "metadata": {
        "jupyter": {
          "source_hidden": false,
          "outputs_hidden": false
        },
        "nteract": {
          "transient": {
            "deleting": false
          }
        },
        "gather": {
          "logged": 1634853282858
        }
      }
    },
    {
      "cell_type": "code",
      "source": [
        "#create the command job\r\n",
        "job = CommandJob(\r\n",
        "    code=Code(local_path=\"./src\"), #local path where the code is stored\r\n",
        "    command = \"python main.py --diabetes-csv ${{inputs.diabetes}}\",\r\n",
        "    inputs = {\"diabetes\":\"https://azuremlexamples.blob.core.windows.net/datasets/diabetes.csv\"},\r\n",
        "    environment = \"AzureML-sklearn-0.24-ubuntu18.04-py37-cpu\",\r\n",
        "    compute = \"cpu-cluster\",\r\n",
        "    display_name = \"sklearn-diabetes-example\",\r\n",
        "    #description,\r\n",
        "    #experiment_name\r\n",
        ")"
      ],
      "outputs": [],
      "execution_count": 4,
      "metadata": {
        "jupyter": {
          "source_hidden": false,
          "outputs_hidden": false
        },
        "nteract": {
          "transient": {
            "deleting": false
          }
        },
        "gather": {
          "logged": 1634853282955
        }
      }
    },
    {
      "cell_type": "code",
      "source": [
        "#submit the command job\r\n",
        "returned_job = ml_client.jobs.create_or_update(job)\r\n",
        "#get a URL for the status of the job\r\n",
        "returned_job.services[\"Studio\"].endpoint"
      ],
      "outputs": [
        {
          "output_type": "stream",
          "name": "stderr",
          "text": "\rUploading src: 0.00B [00:00, ?B/s]\rUploading src:   0%|          | 0.00/4.35k [00:00<?, ?B/s]\n"
        },
        {
          "output_type": "execute_result",
          "execution_count": 5,
          "data": {
            "text/plain": "'https://ml.azure.com/runs/0e3329d7-1b54-4984-9fe7-07d8125fe65e?wsid=/subscriptions/15ae9cb6-95c1-483d-a0e3-b1a1a3b06324/resourcegroups/balapv/workspaces/dpv2priprev&tid=72f988bf-86f1-41af-91ab-2d7cd011db47'"
          },
          "metadata": {}
        }
      ],
      "execution_count": 5,
      "metadata": {
        "jupyter": {
          "source_hidden": false,
          "outputs_hidden": false
        },
        "nteract": {
          "transient": {
            "deleting": false
          }
        },
        "gather": {
          "logged": 1634853289583
        }
      }
    }
  ],
  "metadata": {
    "kernelspec": {
      "name": "python3-azureml",
      "language": "python",
      "display_name": "Python 3.6 - AzureML"
    },
    "language_info": {
      "name": "python",
      "version": "3.6.9",
      "mimetype": "text/x-python",
      "codemirror_mode": {
        "name": "ipython",
        "version": 3
      },
      "pygments_lexer": "ipython3",
      "nbconvert_exporter": "python",
      "file_extension": ".py"
    },
    "kernel_info": {
      "name": "python3-azureml"
    },
    "nteract": {
      "version": "nteract-front-end@1.0.0"
    }
  },
  "nbformat": 4,
  "nbformat_minor": 0
}