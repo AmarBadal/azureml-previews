{
  "cells": [
    {
      "cell_type": "code",
      "source": [
        "#import required libraries\r\n",
        "from azure.ml import MLClient\r\n",
        "from azure.ml.entities import CommandJob, Code, ResourceConfiguration, InputPort"
      ],
      "outputs": [],
      "execution_count": 7,
      "metadata": {
        "gather": {
          "logged": 1634852261599
        }
      }
    },
    {
      "cell_type": "code",
      "source": [
        "#Enter details of your AML workspace\r\n",
        "subscription_id = '15ae9cb6-95c1-483d-a0e3-b1a1a3b06324'\r\n",
        "resource_group = 'balapv'\r\n",
        "workspace = 'dpv2priprev'"
      ],
      "outputs": [],
      "execution_count": 8,
      "metadata": {
        "jupyter": {
          "source_hidden": false,
          "outputs_hidden": false
        },
        "nteract": {
          "transient": {
            "deleting": false
          }
        },
        "gather": {
          "logged": 1634852261744
        }
      }
    },
    {
      "cell_type": "code",
      "source": [
        "#get a handle to the workspace\r\n",
        "ml_client = MLClient(subscription_id, resource_group, workspace)"
      ],
      "outputs": [],
      "execution_count": 9,
      "metadata": {
        "jupyter": {
          "source_hidden": false,
          "outputs_hidden": false
        },
        "nteract": {
          "transient": {
            "deleting": false
          }
        },
        "gather": {
          "logged": 1634852261884
        }
      }
    },
    {
      "cell_type": "code",
      "source": [
        "#create the command job\r\n",
        "job = CommandJob(\r\n",
        "    code=Code(local_path=\"./src\"), #local path where the code is stored\r\n",
        "    command= \"python main.py --iris-csv ${{inputs.iris}} --C ${{inputs.C}} --kernel ${{inputs.kernel}} --coef0 ${{inputs.coef0}}\",\r\n",
        "    inputs={\r\n",
        "        \"iris\":\"https://azuremlexamples.blob.core.windows.net/datasets/iris.csv\",\r\n",
        "        \"C\":0.8,\r\n",
        "        \"kernel\": \"rbf\",\r\n",
        "        \"coef0\":0.1},\r\n",
        "    environment= \"AzureML-sklearn-0.24-ubuntu18.04-py37-cpu\",\r\n",
        "    compute = \"cpu-cluster\",\r\n",
        "    display_name=\"sklearn-iris-example\",\r\n",
        "    #experiment_name\r\n",
        "    #description \r\n",
        ")"
      ],
      "outputs": [],
      "execution_count": 10,
      "metadata": {
        "jupyter": {
          "source_hidden": false,
          "outputs_hidden": false
        },
        "nteract": {
          "transient": {
            "deleting": false
          }
        },
        "gather": {
          "logged": 1634852262026
        }
      }
    },
    {
      "cell_type": "code",
      "source": [
        "#submit the command job\r\n",
        "returned_job = ml_client.jobs.create_or_update(job)\r\n",
        "#get a URL for the status of the job\r\n",
        "returned_job.services[\"Studio\"].endpoint"
      ],
      "outputs": [
        {
          "output_type": "execute_result",
          "execution_count": 11,
          "data": {
            "text/plain": "'https://ml.azure.com/runs/a8544ca6-4618-42ca-b256-49a2aedc6cd2?wsid=/subscriptions/15ae9cb6-95c1-483d-a0e3-b1a1a3b06324/resourcegroups/balapv/workspaces/dpv2priprev&tid=72f988bf-86f1-41af-91ab-2d7cd011db47'"
          },
          "metadata": {}
        }
      ],
      "execution_count": 11,
      "metadata": {
        "jupyter": {
          "source_hidden": false,
          "outputs_hidden": false
        },
        "nteract": {
          "transient": {
            "deleting": false
          }
        },
        "gather": {
          "logged": 1634852267930
        }
      }
    }
  ],
  "metadata": {
    "kernelspec": {
      "name": "python3-azureml",
      "language": "python",
      "display_name": "Python 3.6 - AzureML"
    },
    "language_info": {
      "name": "python",
      "version": "3.6.9",
      "mimetype": "text/x-python",
      "codemirror_mode": {
        "name": "ipython",
        "version": 3
      },
      "pygments_lexer": "ipython3",
      "nbconvert_exporter": "python",
      "file_extension": ".py"
    },
    "kernel_info": {
      "name": "python3-azureml"
    },
    "microsoft": {
      "host": {
        "AzureML": {
          "notebookHasBeenCompleted": true
        }
      }
    },
    "nteract": {
      "version": "nteract-front-end@1.0.0"
    }
  },
  "nbformat": 4,
  "nbformat_minor": 0
}